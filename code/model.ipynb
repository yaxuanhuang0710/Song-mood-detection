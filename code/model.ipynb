{
  "nbformat": 4,
  "nbformat_minor": 0,
  "metadata": {
    "colab": {
      "provenance": [],
      "collapsed_sections": [
        "rVSo7lOkx1jd"
      ],
      "toc_visible": true
    },
    "kernelspec": {
      "name": "python3",
      "display_name": "Python 3"
    },
    "language_info": {
      "name": "python"
    }
  },
  "cells": [
    {
      "cell_type": "markdown",
      "source": [
        "## First step: Upload a file\n",
        "Upload the data to database, and read cvs to data."
      ],
      "metadata": {
        "id": "nxYosGQ0vxaX"
      }
    },
    {
      "cell_type": "code",
      "source": [
        "import pandas as pd\n",
        "import spacy"
      ],
      "metadata": {
        "id": "ajcDvVzNw5Pj"
      },
      "execution_count": 1,
      "outputs": []
    },
    {
      "cell_type": "code",
      "execution_count": 2,
      "metadata": {
        "colab": {
          "base_uri": "https://localhost:8080/",
          "height": 74
        },
        "id": "ZMD9_l_2rwpJ",
        "outputId": "86ef7b3a-32cd-4644-f3fa-a0c6216034b7"
      },
      "outputs": [
        {
          "output_type": "display_data",
          "data": {
            "text/plain": [
              "<IPython.core.display.HTML object>"
            ],
            "text/html": [
              "\n",
              "     <input type=\"file\" id=\"files-b621f43a-8623-494c-9393-8b68d7277494\" name=\"files[]\" multiple disabled\n",
              "        style=\"border:none\" />\n",
              "     <output id=\"result-b621f43a-8623-494c-9393-8b68d7277494\">\n",
              "      Upload widget is only available when the cell has been executed in the\n",
              "      current browser session. Please rerun this cell to enable.\n",
              "      </output>\n",
              "      <script>// Copyright 2017 Google LLC\n",
              "//\n",
              "// Licensed under the Apache License, Version 2.0 (the \"License\");\n",
              "// you may not use this file except in compliance with the License.\n",
              "// You may obtain a copy of the License at\n",
              "//\n",
              "//      http://www.apache.org/licenses/LICENSE-2.0\n",
              "//\n",
              "// Unless required by applicable law or agreed to in writing, software\n",
              "// distributed under the License is distributed on an \"AS IS\" BASIS,\n",
              "// WITHOUT WARRANTIES OR CONDITIONS OF ANY KIND, either express or implied.\n",
              "// See the License for the specific language governing permissions and\n",
              "// limitations under the License.\n",
              "\n",
              "/**\n",
              " * @fileoverview Helpers for google.colab Python module.\n",
              " */\n",
              "(function(scope) {\n",
              "function span(text, styleAttributes = {}) {\n",
              "  const element = document.createElement('span');\n",
              "  element.textContent = text;\n",
              "  for (const key of Object.keys(styleAttributes)) {\n",
              "    element.style[key] = styleAttributes[key];\n",
              "  }\n",
              "  return element;\n",
              "}\n",
              "\n",
              "// Max number of bytes which will be uploaded at a time.\n",
              "const MAX_PAYLOAD_SIZE = 100 * 1024;\n",
              "\n",
              "function _uploadFiles(inputId, outputId) {\n",
              "  const steps = uploadFilesStep(inputId, outputId);\n",
              "  const outputElement = document.getElementById(outputId);\n",
              "  // Cache steps on the outputElement to make it available for the next call\n",
              "  // to uploadFilesContinue from Python.\n",
              "  outputElement.steps = steps;\n",
              "\n",
              "  return _uploadFilesContinue(outputId);\n",
              "}\n",
              "\n",
              "// This is roughly an async generator (not supported in the browser yet),\n",
              "// where there are multiple asynchronous steps and the Python side is going\n",
              "// to poll for completion of each step.\n",
              "// This uses a Promise to block the python side on completion of each step,\n",
              "// then passes the result of the previous step as the input to the next step.\n",
              "function _uploadFilesContinue(outputId) {\n",
              "  const outputElement = document.getElementById(outputId);\n",
              "  const steps = outputElement.steps;\n",
              "\n",
              "  const next = steps.next(outputElement.lastPromiseValue);\n",
              "  return Promise.resolve(next.value.promise).then((value) => {\n",
              "    // Cache the last promise value to make it available to the next\n",
              "    // step of the generator.\n",
              "    outputElement.lastPromiseValue = value;\n",
              "    return next.value.response;\n",
              "  });\n",
              "}\n",
              "\n",
              "/**\n",
              " * Generator function which is called between each async step of the upload\n",
              " * process.\n",
              " * @param {string} inputId Element ID of the input file picker element.\n",
              " * @param {string} outputId Element ID of the output display.\n",
              " * @return {!Iterable<!Object>} Iterable of next steps.\n",
              " */\n",
              "function* uploadFilesStep(inputId, outputId) {\n",
              "  const inputElement = document.getElementById(inputId);\n",
              "  inputElement.disabled = false;\n",
              "\n",
              "  const outputElement = document.getElementById(outputId);\n",
              "  outputElement.innerHTML = '';\n",
              "\n",
              "  const pickedPromise = new Promise((resolve) => {\n",
              "    inputElement.addEventListener('change', (e) => {\n",
              "      resolve(e.target.files);\n",
              "    });\n",
              "  });\n",
              "\n",
              "  const cancel = document.createElement('button');\n",
              "  inputElement.parentElement.appendChild(cancel);\n",
              "  cancel.textContent = 'Cancel upload';\n",
              "  const cancelPromise = new Promise((resolve) => {\n",
              "    cancel.onclick = () => {\n",
              "      resolve(null);\n",
              "    };\n",
              "  });\n",
              "\n",
              "  // Wait for the user to pick the files.\n",
              "  const files = yield {\n",
              "    promise: Promise.race([pickedPromise, cancelPromise]),\n",
              "    response: {\n",
              "      action: 'starting',\n",
              "    }\n",
              "  };\n",
              "\n",
              "  cancel.remove();\n",
              "\n",
              "  // Disable the input element since further picks are not allowed.\n",
              "  inputElement.disabled = true;\n",
              "\n",
              "  if (!files) {\n",
              "    return {\n",
              "      response: {\n",
              "        action: 'complete',\n",
              "      }\n",
              "    };\n",
              "  }\n",
              "\n",
              "  for (const file of files) {\n",
              "    const li = document.createElement('li');\n",
              "    li.append(span(file.name, {fontWeight: 'bold'}));\n",
              "    li.append(span(\n",
              "        `(${file.type || 'n/a'}) - ${file.size} bytes, ` +\n",
              "        `last modified: ${\n",
              "            file.lastModifiedDate ? file.lastModifiedDate.toLocaleDateString() :\n",
              "                                    'n/a'} - `));\n",
              "    const percent = span('0% done');\n",
              "    li.appendChild(percent);\n",
              "\n",
              "    outputElement.appendChild(li);\n",
              "\n",
              "    const fileDataPromise = new Promise((resolve) => {\n",
              "      const reader = new FileReader();\n",
              "      reader.onload = (e) => {\n",
              "        resolve(e.target.result);\n",
              "      };\n",
              "      reader.readAsArrayBuffer(file);\n",
              "    });\n",
              "    // Wait for the data to be ready.\n",
              "    let fileData = yield {\n",
              "      promise: fileDataPromise,\n",
              "      response: {\n",
              "        action: 'continue',\n",
              "      }\n",
              "    };\n",
              "\n",
              "    // Use a chunked sending to avoid message size limits. See b/62115660.\n",
              "    let position = 0;\n",
              "    do {\n",
              "      const length = Math.min(fileData.byteLength - position, MAX_PAYLOAD_SIZE);\n",
              "      const chunk = new Uint8Array(fileData, position, length);\n",
              "      position += length;\n",
              "\n",
              "      const base64 = btoa(String.fromCharCode.apply(null, chunk));\n",
              "      yield {\n",
              "        response: {\n",
              "          action: 'append',\n",
              "          file: file.name,\n",
              "          data: base64,\n",
              "        },\n",
              "      };\n",
              "\n",
              "      let percentDone = fileData.byteLength === 0 ?\n",
              "          100 :\n",
              "          Math.round((position / fileData.byteLength) * 100);\n",
              "      percent.textContent = `${percentDone}% done`;\n",
              "\n",
              "    } while (position < fileData.byteLength);\n",
              "  }\n",
              "\n",
              "  // All done.\n",
              "  yield {\n",
              "    response: {\n",
              "      action: 'complete',\n",
              "    }\n",
              "  };\n",
              "}\n",
              "\n",
              "scope.google = scope.google || {};\n",
              "scope.google.colab = scope.google.colab || {};\n",
              "scope.google.colab._files = {\n",
              "  _uploadFiles,\n",
              "  _uploadFilesContinue,\n",
              "};\n",
              "})(self);\n",
              "</script> "
            ]
          },
          "metadata": {}
        },
        {
          "output_type": "stream",
          "name": "stdout",
          "text": [
            "Saving MoodyLyrics_final.csv to MoodyLyrics_final.csv\n"
          ]
        }
      ],
      "source": [
        "from google.colab import files\n",
        "database = files.upload()"
      ]
    },
    {
      "cell_type": "code",
      "source": [
        "import io\n",
        "data = pd.read_csv(io.BytesIO(database['MoodyLyrics_final.csv']))"
      ],
      "metadata": {
        "id": "efQccPPnxHgn"
      },
      "execution_count": 3,
      "outputs": []
    },
    {
      "cell_type": "markdown",
      "source": [
        "## Second Step: Get Pretrain nlp."
      ],
      "metadata": {
        "id": "rVSo7lOkx1jd"
      }
    },
    {
      "cell_type": "code",
      "source": [
        "!python -m spacy download en_core_web_lg"
      ],
      "metadata": {
        "colab": {
          "base_uri": "https://localhost:8080/"
        },
        "id": "bzODtYO2yXbv",
        "outputId": "abcf639a-12dc-4c25-8bb2-966a0040407e"
      },
      "execution_count": 4,
      "outputs": [
        {
          "output_type": "stream",
          "name": "stdout",
          "text": [
            "2023-05-18 20:00:29.126227: W tensorflow/compiler/tf2tensorrt/utils/py_utils.cc:38] TF-TRT Warning: Could not find TensorRT\n",
            "Looking in indexes: https://pypi.org/simple, https://us-python.pkg.dev/colab-wheels/public/simple/\n",
            "Collecting en-core-web-lg==3.5.0\n",
            "  Downloading https://github.com/explosion/spacy-models/releases/download/en_core_web_lg-3.5.0/en_core_web_lg-3.5.0-py3-none-any.whl (587.7 MB)\n",
            "\u001b[2K     \u001b[90m━━━━━━━━━━━━━━━━━━━━━━━━━━━━━━━━━━━━━\u001b[0m \u001b[32m587.7/587.7 MB\u001b[0m \u001b[31m568.4 kB/s\u001b[0m eta \u001b[36m0:00:00\u001b[0m\n",
            "\u001b[?25hRequirement already satisfied: spacy<3.6.0,>=3.5.0 in /usr/local/lib/python3.10/dist-packages (from en-core-web-lg==3.5.0) (3.5.2)\n",
            "Requirement already satisfied: spacy-legacy<3.1.0,>=3.0.11 in /usr/local/lib/python3.10/dist-packages (from spacy<3.6.0,>=3.5.0->en-core-web-lg==3.5.0) (3.0.12)\n",
            "Requirement already satisfied: spacy-loggers<2.0.0,>=1.0.0 in /usr/local/lib/python3.10/dist-packages (from spacy<3.6.0,>=3.5.0->en-core-web-lg==3.5.0) (1.0.4)\n",
            "Requirement already satisfied: murmurhash<1.1.0,>=0.28.0 in /usr/local/lib/python3.10/dist-packages (from spacy<3.6.0,>=3.5.0->en-core-web-lg==3.5.0) (1.0.9)\n",
            "Requirement already satisfied: cymem<2.1.0,>=2.0.2 in /usr/local/lib/python3.10/dist-packages (from spacy<3.6.0,>=3.5.0->en-core-web-lg==3.5.0) (2.0.7)\n",
            "Requirement already satisfied: preshed<3.1.0,>=3.0.2 in /usr/local/lib/python3.10/dist-packages (from spacy<3.6.0,>=3.5.0->en-core-web-lg==3.5.0) (3.0.8)\n",
            "Requirement already satisfied: thinc<8.2.0,>=8.1.8 in /usr/local/lib/python3.10/dist-packages (from spacy<3.6.0,>=3.5.0->en-core-web-lg==3.5.0) (8.1.9)\n",
            "Requirement already satisfied: wasabi<1.2.0,>=0.9.1 in /usr/local/lib/python3.10/dist-packages (from spacy<3.6.0,>=3.5.0->en-core-web-lg==3.5.0) (1.1.1)\n",
            "Requirement already satisfied: srsly<3.0.0,>=2.4.3 in /usr/local/lib/python3.10/dist-packages (from spacy<3.6.0,>=3.5.0->en-core-web-lg==3.5.0) (2.4.6)\n",
            "Requirement already satisfied: catalogue<2.1.0,>=2.0.6 in /usr/local/lib/python3.10/dist-packages (from spacy<3.6.0,>=3.5.0->en-core-web-lg==3.5.0) (2.0.8)\n",
            "Requirement already satisfied: typer<0.8.0,>=0.3.0 in /usr/local/lib/python3.10/dist-packages (from spacy<3.6.0,>=3.5.0->en-core-web-lg==3.5.0) (0.7.0)\n",
            "Requirement already satisfied: pathy>=0.10.0 in /usr/local/lib/python3.10/dist-packages (from spacy<3.6.0,>=3.5.0->en-core-web-lg==3.5.0) (0.10.1)\n",
            "Requirement already satisfied: smart-open<7.0.0,>=5.2.1 in /usr/local/lib/python3.10/dist-packages (from spacy<3.6.0,>=3.5.0->en-core-web-lg==3.5.0) (6.3.0)\n",
            "Requirement already satisfied: tqdm<5.0.0,>=4.38.0 in /usr/local/lib/python3.10/dist-packages (from spacy<3.6.0,>=3.5.0->en-core-web-lg==3.5.0) (4.65.0)\n",
            "Requirement already satisfied: numpy>=1.15.0 in /usr/local/lib/python3.10/dist-packages (from spacy<3.6.0,>=3.5.0->en-core-web-lg==3.5.0) (1.22.4)\n",
            "Requirement already satisfied: requests<3.0.0,>=2.13.0 in /usr/local/lib/python3.10/dist-packages (from spacy<3.6.0,>=3.5.0->en-core-web-lg==3.5.0) (2.27.1)\n",
            "Requirement already satisfied: pydantic!=1.8,!=1.8.1,<1.11.0,>=1.7.4 in /usr/local/lib/python3.10/dist-packages (from spacy<3.6.0,>=3.5.0->en-core-web-lg==3.5.0) (1.10.7)\n",
            "Requirement already satisfied: jinja2 in /usr/local/lib/python3.10/dist-packages (from spacy<3.6.0,>=3.5.0->en-core-web-lg==3.5.0) (3.1.2)\n",
            "Requirement already satisfied: setuptools in /usr/local/lib/python3.10/dist-packages (from spacy<3.6.0,>=3.5.0->en-core-web-lg==3.5.0) (67.7.2)\n",
            "Requirement already satisfied: packaging>=20.0 in /usr/local/lib/python3.10/dist-packages (from spacy<3.6.0,>=3.5.0->en-core-web-lg==3.5.0) (23.1)\n",
            "Requirement already satisfied: langcodes<4.0.0,>=3.2.0 in /usr/local/lib/python3.10/dist-packages (from spacy<3.6.0,>=3.5.0->en-core-web-lg==3.5.0) (3.3.0)\n",
            "Requirement already satisfied: typing-extensions>=4.2.0 in /usr/local/lib/python3.10/dist-packages (from pydantic!=1.8,!=1.8.1,<1.11.0,>=1.7.4->spacy<3.6.0,>=3.5.0->en-core-web-lg==3.5.0) (4.5.0)\n",
            "Requirement already satisfied: urllib3<1.27,>=1.21.1 in /usr/local/lib/python3.10/dist-packages (from requests<3.0.0,>=2.13.0->spacy<3.6.0,>=3.5.0->en-core-web-lg==3.5.0) (1.26.15)\n",
            "Requirement already satisfied: certifi>=2017.4.17 in /usr/local/lib/python3.10/dist-packages (from requests<3.0.0,>=2.13.0->spacy<3.6.0,>=3.5.0->en-core-web-lg==3.5.0) (2022.12.7)\n",
            "Requirement already satisfied: charset-normalizer~=2.0.0 in /usr/local/lib/python3.10/dist-packages (from requests<3.0.0,>=2.13.0->spacy<3.6.0,>=3.5.0->en-core-web-lg==3.5.0) (2.0.12)\n",
            "Requirement already satisfied: idna<4,>=2.5 in /usr/local/lib/python3.10/dist-packages (from requests<3.0.0,>=2.13.0->spacy<3.6.0,>=3.5.0->en-core-web-lg==3.5.0) (3.4)\n",
            "Requirement already satisfied: blis<0.8.0,>=0.7.8 in /usr/local/lib/python3.10/dist-packages (from thinc<8.2.0,>=8.1.8->spacy<3.6.0,>=3.5.0->en-core-web-lg==3.5.0) (0.7.9)\n",
            "Requirement already satisfied: confection<1.0.0,>=0.0.1 in /usr/local/lib/python3.10/dist-packages (from thinc<8.2.0,>=8.1.8->spacy<3.6.0,>=3.5.0->en-core-web-lg==3.5.0) (0.0.4)\n",
            "Requirement already satisfied: click<9.0.0,>=7.1.1 in /usr/local/lib/python3.10/dist-packages (from typer<0.8.0,>=0.3.0->spacy<3.6.0,>=3.5.0->en-core-web-lg==3.5.0) (8.1.3)\n",
            "Requirement already satisfied: MarkupSafe>=2.0 in /usr/local/lib/python3.10/dist-packages (from jinja2->spacy<3.6.0,>=3.5.0->en-core-web-lg==3.5.0) (2.1.2)\n",
            "Installing collected packages: en-core-web-lg\n",
            "Successfully installed en-core-web-lg-3.5.0\n",
            "\u001b[38;5;2m✔ Download and installation successful\u001b[0m\n",
            "You can now load the package via spacy.load('en_core_web_lg')\n"
          ]
        }
      ]
    },
    {
      "cell_type": "code",
      "source": [
        "spacy_lang = 'en_core_web_lg'\n",
        "nlp = spacy.load(spacy_lang)"
      ],
      "metadata": {
        "id": "LQJUbk9dx_tE"
      },
      "execution_count": 5,
      "outputs": []
    },
    {
      "cell_type": "markdown",
      "source": [
        "## Third Step: Preprare the Data and Other preparatory work"
      ],
      "metadata": {
        "id": "nwI3vxQUypfM"
      }
    },
    {
      "cell_type": "code",
      "source": [
        "dataset = data\n",
        "emotion_labels = ['happy', 'sad', 'relaxed', 'angry']\n",
        "mapping = dict(zip(emotion_labels, range(len(emotion_labels)))) # { 'happy' : 0, 'sad': 1, 'relaxed': 2, 'angry': 3 }\n",
        "dataset['Mood'] = dataset['Mood'].map(mapping)"
      ],
      "metadata": {
        "id": "A2dTOoghy6D_"
      },
      "execution_count": 6,
      "outputs": []
    },
    {
      "cell_type": "code",
      "source": [
        "def remove_stopwords(doc):\n",
        "    tks = list(filter(lambda tk: not tk.is_stop, doc))\n",
        "    return spacy.tokens.Doc(nlp.vocab, words=[tk.text for tk in tks])\n",
        "\n",
        "def doc_preprocess(doc):\n",
        "    d = remove_stopwords(doc)\n",
        "    return d"
      ],
      "metadata": {
        "id": "qOMTs7MyzUwv"
      },
      "execution_count": 7,
      "outputs": []
    },
    {
      "cell_type": "code",
      "source": [
        "import numpy as np\n",
        "rows = list()\n",
        "dataset['Vector'] = np.nan\n",
        "dataset['Vector_Norm'] = np.nan\n",
        "for index, row in dataset.iterrows():\n",
        "    if index < 1000:\n",
        "        name = row['Title']\n",
        "        emotion = row['Mood']\n",
        "        lyric = row['Lyrics_after_stopwords']\n",
        "        if not pd.isna(lyric):\n",
        "            doc = nlp(lyric)\n",
        "            doc = doc_preprocess(doc)\n",
        "            if len(doc.vector) == 300:\n",
        "                rows.append((\n",
        "                    name,\n",
        "                    lyric,\n",
        "                    emotion, doc.vector,\n",
        "                    doc.vector_norm\n",
        "                ))"
      ],
      "metadata": {
        "id": "AdJF-6ZSzXt4"
      },
      "execution_count": 8,
      "outputs": []
    },
    {
      "cell_type": "code",
      "source": [
        "# Let us see the data!\n",
        "dd = pd.DataFrame(rows, columns=['Title','Lyrics_after_stopwords', 'Mood', 'Vector', 'Vector_Norm'])\n",
        "print(dd)"
      ],
      "metadata": {
        "colab": {
          "base_uri": "https://localhost:8080/"
        },
        "id": "4cC4W_jizxxN",
        "outputId": "5f12d826-d4de-43b6-c062-0cefedd047a2"
      },
      "execution_count": 9,
      "outputs": [
        {
          "output_type": "stream",
          "name": "stdout",
          "text": [
            "                         Title  \\\n",
            "0           There Goes My Baby   \n",
            "1                   On My Mind   \n",
            "2                Rockstar 101    \n",
            "3                          Bed   \n",
            "4            Don't Haffi Dread   \n",
            "..                         ...   \n",
            "995             Big Difference   \n",
            "996  Make Out Fall Out Make Up   \n",
            "997             Because Of You   \n",
            "998                 Summertime   \n",
            "999      Blood Sugar Sex Magik   \n",
            "\n",
            "                                Lyrics_after_stopwords  Mood  \\\n",
            "0    yeah right usher baby okay yeah man right turn...     2   \n",
            "1    ahhhhhhhh youre om mind yea verse im thinkin g...     2   \n",
            "2    told ya told ya told ya baby baby uh uh told y...     2   \n",
            "3    j holiday oooh oooh ayayay ay ayayay ay ayayay...     2   \n",
            "4    yeah yeah yeah ragga ragga dont ha fi dread ra...     3   \n",
            "..                                                 ...   ...   \n",
            "995  quiet kid coming stay says im lonely says im l...     1   \n",
            "996  records clothes floor remind night pounding pa...     1   \n",
            "997  theres song heart romance start sun shine moon...     0   \n",
            "998  summertime livin easy fish jumpin cotton high ...     2   \n",
            "999  cdsacdc black rock salute razors edge acdc liv...     0   \n",
            "\n",
            "                                                Vector  Vector_Norm  \n",
            "0    [1.2036343, 2.7549105, -3.364634, -2.160757, -...    26.265176  \n",
            "1    [1.2690532, 2.3570883, -2.0688064, -1.7489154,...    25.409182  \n",
            "2    [1.0476884, 0.84791094, -3.1719902, -1.8038255...    26.853007  \n",
            "3    [0.46617025, 1.364896, -3.0625355, -1.2415866,...    22.075059  \n",
            "4    [0.72134465, 1.3879673, -2.461058, -0.42578036...    20.858110  \n",
            "..                                                 ...          ...  \n",
            "995  [0.9251637, 0.8238773, -1.8485899, -1.7998356,...    24.765360  \n",
            "996  [0.15478456, 1.097267, -3.2426832, -0.49173537...    23.969973  \n",
            "997  [1.0482739, 1.3036641, -2.780468, -2.2719886, ...    26.192208  \n",
            "998  [1.8919208, 1.35856, -2.9298346, -1.066846, -0...    20.717560  \n",
            "999  [-0.44264454, 0.73527277, -1.4756043, -0.14287...    13.060024  \n",
            "\n",
            "[1000 rows x 5 columns]\n"
          ]
        }
      ]
    },
    {
      "cell_type": "code",
      "source": [
        "print(dd.loc[0, 'Lyrics_after_stopwords'])"
      ],
      "metadata": {
        "colab": {
          "base_uri": "https://localhost:8080/"
        },
        "id": "2KkA-Vv-Fak_",
        "outputId": "4664855f-2ba9-4c29-89d0-9e4a61177afc"
      },
      "execution_count": 10,
      "outputs": [
        {
          "output_type": "stream",
          "name": "stdout",
          "text": [
            "yeah right usher baby okay yeah man right turn lights goes baby oooh girl look dont know good feels girl goes baby loving oooh girl look bet aint know checking putting heels swear bodys perfect baby work baby yeah wooo love way poking girl feel believe gone twerking end night baby ive waiting day wrap hands waist kiss face wouldnt trade feeling minute ill sit long takes soon come walking way gon hear goes baby oooh girl look dont know good feels girl goes baby loving oooh girl look chills face place girl feel like im movie baby im like oowee baby like waterfalls hair falls waist taste girl need creep cause baby aint ashamed calling girl ive waiting day wrap hands waist kiss face wouldnt trade feeling minute ill sit long takes soon come walking way gon hear goes baby oooh girl look dont know good feels girl goes baby loving oooh girl look girl feel like time time baby loving feels better heart dont need ring promise time away wont change love goes baby oooh girl look dont know good feels girl goes baby loving oooh girl look goes baby oooh girl look dont know good feels girl goes baby loving oooh girl look\n"
          ]
        }
      ]
    },
    {
      "cell_type": "code",
      "source": [
        "#split the dataset\n",
        "from sklearn.model_selection import train_test_split\n",
        "X_vect = dd['Vector'].values.T\n",
        "X_vect = np.array([np.array(x) for x in X_vect])\n",
        "X_norm = dd['Vector_Norm'].values\n",
        "y = dd['Mood'].values\n",
        "\n",
        "# Assuming you have your feature matrix X and target variable y\n",
        "X_train, X_test, y_train, y_test = train_test_split(X_vect, y, test_size=0.2, random_state=42)"
      ],
      "metadata": {
        "id": "PKUoVkCnJ3p2"
      },
      "execution_count": 11,
      "outputs": []
    },
    {
      "cell_type": "markdown",
      "source": [
        "## Fourth Step: Train Model"
      ],
      "metadata": {
        "id": "Zbct9LbX0ikM"
      }
    },
    {
      "cell_type": "markdown",
      "source": [
        "### KNN-success"
      ],
      "metadata": {
        "id": "tP-YP_cmjwzJ"
      }
    },
    {
      "cell_type": "code",
      "source": [
        "#parameter tuning\n",
        "from sklearn.neighbors import KNeighborsClassifier\n",
        "from sklearn.model_selection import cross_val_score\n",
        "\n",
        "ks = [1, 3, 5, 7, 9, 11, 13, 15, 17, 19, 21]\n",
        "\n",
        "for k in ks:\n",
        "    # Build model\n",
        "    clf = KNeighborsClassifier(n_neighbors=k, algorithm='auto', \n",
        "                           metric='euclidean', n_jobs=-1)\n",
        "    # Evaluate accuracy\n",
        "    scores = cross_val_score(clf, X_train, y_train, cv=10)\n",
        "    print('Accuracy for k=%d: %0.2f (+/- %0.2f)' % (k, scores.mean(), scores.std() * 1.96))"
      ],
      "metadata": {
        "colab": {
          "base_uri": "https://localhost:8080/"
        },
        "id": "kqUppqSs4qBN",
        "outputId": "7dadd6f1-2923-41f1-d026-341596f59953"
      },
      "execution_count": null,
      "outputs": [
        {
          "output_type": "stream",
          "name": "stdout",
          "text": [
            "Accuracy for k=1: 0.69 (+/- 0.09)\n",
            "Accuracy for k=3: 0.68 (+/- 0.13)\n",
            "Accuracy for k=5: 0.70 (+/- 0.13)\n",
            "Accuracy for k=7: 0.72 (+/- 0.12)\n",
            "Accuracy for k=9: 0.70 (+/- 0.10)\n",
            "Accuracy for k=11: 0.71 (+/- 0.11)\n",
            "Accuracy for k=13: 0.71 (+/- 0.12)\n",
            "Accuracy for k=15: 0.70 (+/- 0.13)\n",
            "Accuracy for k=17: 0.69 (+/- 0.12)\n",
            "Accuracy for k=19: 0.70 (+/- 0.10)\n",
            "Accuracy for k=21: 0.71 (+/- 0.08)\n"
          ]
        }
      ]
    },
    {
      "cell_type": "code",
      "source": [
        "#parameter tuning using grid search\n",
        "from sklearn.model_selection import GridSearchCV\n",
        "\n",
        "clf=KNeighborsClassifier()\n",
        "param_grid = {'n_neighbors': [1, 3, 5, 7, 9, 11, 13, 15, 17, 19, 21], 'metric': ['euclidean', 'manhattan']}\n",
        "grid_search = GridSearchCV(clf, param_grid, cv=10)\n",
        "grid_search.fit(X_train, y_train)\n",
        "\n",
        "best_params = grid_search.best_params_\n",
        "best_score = grid_search.best_score_\n",
        "\n",
        "print(\"Best Parameters:\", best_params)\n",
        "print(\"Best Score:\", best_score)"
      ],
      "metadata": {
        "colab": {
          "base_uri": "https://localhost:8080/"
        },
        "id": "-ddtKbA8LCcW",
        "outputId": "ac5c67f5-df4d-4427-fd04-1601ef22f9c0"
      },
      "execution_count": null,
      "outputs": [
        {
          "output_type": "stream",
          "name": "stdout",
          "text": [
            "Best Parameters: {'metric': 'euclidean', 'n_neighbors': 7}\n",
            "Best Score: 0.72375\n"
          ]
        }
      ]
    },
    {
      "cell_type": "code",
      "source": [
        "#the best model \n",
        "clf = KNeighborsClassifier(n_neighbors=7, algorithm='auto', \n",
        "                           metric='euclidean', n_jobs=-1)\n",
        "clf.fit(X_train, y_train)\n",
        "y_pred = clf.predict(X_test)"
      ],
      "metadata": {
        "id": "DxA47aDqHNz7"
      },
      "execution_count": null,
      "outputs": []
    },
    {
      "cell_type": "code",
      "source": [
        "#classification report\n",
        "from sklearn.metrics import classification_report\n",
        "report = classification_report(y_test, y_pred)\n",
        "print(report)"
      ],
      "metadata": {
        "colab": {
          "base_uri": "https://localhost:8080/"
        },
        "id": "hEfJMxiAHsjz",
        "outputId": "1fd050bb-a826-478f-c377-030e4bff49b5"
      },
      "execution_count": null,
      "outputs": [
        {
          "output_type": "stream",
          "name": "stdout",
          "text": [
            "              precision    recall  f1-score   support\n",
            "\n",
            "           0       0.76      0.92      0.84        66\n",
            "           1       0.70      0.76      0.73        49\n",
            "           2       0.89      0.52      0.66        48\n",
            "           3       0.72      0.76      0.74        37\n",
            "\n",
            "    accuracy                           0.76       200\n",
            "   macro avg       0.77      0.74      0.74       200\n",
            "weighted avg       0.77      0.76      0.75       200\n",
            "\n"
          ]
        }
      ]
    },
    {
      "cell_type": "code",
      "source": [
        "#confusion matrix\n",
        "import seaborn as sns\n",
        "import matplotlib.pyplot as plt\n",
        "from sklearn.metrics import confusion_matrix\n",
        "\n",
        "cm = confusion_matrix(y_test, y_pred)\n",
        "class_labels = ['happy', 'sad', 'relaxed', 'angry']\n",
        "sns.heatmap(cm, annot=True, cmap='Blues', fmt='d', xticklabels=class_labels, yticklabels=class_labels)\n",
        "\n",
        "# Set labels, title, and ticks\n",
        "plt.xlabel('Predicted')\n",
        "plt.ylabel('True')\n",
        "plt.title('Confusion Matrix')\n",
        "plt.xticks(np.arange(len(class_labels)) + 0.5, class_labels)\n",
        "plt.yticks(np.arange(len(class_labels)) + 0.5, class_labels)\n",
        "plt.show()"
      ],
      "metadata": {
        "colab": {
          "base_uri": "https://localhost:8080/",
          "height": 472
        },
        "id": "d600vlWdLwyG",
        "outputId": "154a62a5-2d56-46f4-f14b-dfc3d5d79d31"
      },
      "execution_count": null,
      "outputs": [
        {
          "output_type": "display_data",
          "data": {
            "text/plain": [
              "<Figure size 640x480 with 2 Axes>"
            ],
            "image/png": "[encoded data removed]"
          },
          "metadata": {}
        }
      ]
    },
    {
      "cell_type": "code",
      "source": [
        "# Original Result\n",
        "# from sklearn.neighbors import KNeighborsClassifier\n",
        "# from sklearn.model_selection import cross_val_score\n",
        "\n",
        "# ks = [1, 3, 5, 7, 9, 11, 13, 15, 17, 19, 21]\n",
        "\n",
        "# for k in ks:\n",
        "#     # Build model\n",
        "#     clf = KNeighborsClassifier(n_neighbors=k, algorithm='auto', \n",
        "#                            metric='euclidean', n_jobs=-1)\n",
        "#     # Evaluate accuracy\n",
        "#     scores = cross_val_score(clf, X_vect, y, cv=10)\n",
        "#     print('Accuracy for k=%d: %0.2f (+/- %0.2f)' % (k, scores.mean(), scores.std() * 1.96))"
      ],
      "metadata": {
        "colab": {
          "base_uri": "https://localhost:8080/"
        },
        "id": "R-Pxarix1Nmz",
        "outputId": "76e524da-fec5-41cb-ad62-c4e373ac6705"
      },
      "execution_count": null,
      "outputs": [
        {
          "output_type": "stream",
          "name": "stdout",
          "text": [
            "Accuracy for k=1: 0.64 (+/- 0.12)\n",
            "Accuracy for k=3: 0.64 (+/- 0.10)\n",
            "Accuracy for k=5: 0.65 (+/- 0.10)\n",
            "Accuracy for k=7: 0.68 (+/- 0.09)\n",
            "Accuracy for k=9: 0.67 (+/- 0.09)\n",
            "Accuracy for k=11: 0.65 (+/- 0.09)\n",
            "Accuracy for k=13: 0.65 (+/- 0.10)\n",
            "Accuracy for k=15: 0.65 (+/- 0.09)\n",
            "Accuracy for k=17: 0.67 (+/- 0.10)\n",
            "Accuracy for k=19: 0.67 (+/- 0.09)\n",
            "Accuracy for k=21: 0.67 (+/- 0.10)\n"
          ]
        }
      ]
    },
    {
      "cell_type": "code",
      "source": [
        "clf = KNeighborsClassifier(n_neighbors=9, algorithm='auto', \n",
        "                           metric='euclidean', n_jobs=-1)\n",
        "clf.fit(X_vect, y)"
      ],
      "metadata": {
        "colab": {
          "base_uri": "https://localhost:8080/",
          "height": 75
        },
        "id": "jyNoQ-Dl2XAg",
        "outputId": "3e8e3092-3726-415c-c10c-eb07dbc41d2b"
      },
      "execution_count": null,
      "outputs": [
        {
          "output_type": "execute_result",
          "data": {
            "text/plain": [
              "KNeighborsClassifier(metric='euclidean', n_jobs=-1, n_neighbors=9)"
            ],
            "text/html": [
              "<style>#sk-container-id-1 {color: black;background-color: white;}#sk-container-id-1 pre{padding: 0;}#sk-container-id-1 div.sk-toggleable {background-color: white;}#sk-container-id-1 label.sk-toggleable__label {cursor: pointer;display: block;width: 100%;margin-bottom: 0;padding: 0.3em;box-sizing: border-box;text-align: center;}#sk-container-id-1 label.sk-toggleable__label-arrow:before {content: \"▸\";float: left;margin-right: 0.25em;color: #696969;}#sk-container-id-1 label.sk-toggleable__label-arrow:hover:before {color: black;}#sk-container-id-1 div.sk-estimator:hover label.sk-toggleable__label-arrow:before {color: black;}#sk-container-id-1 div.sk-toggleable__content {max-height: 0;max-width: 0;overflow: hidden;text-align: left;background-color: #f0f8ff;}#sk-container-id-1 div.sk-toggleable__content pre {margin: 0.2em;color: black;border-radius: 0.25em;background-color: #f0f8ff;}#sk-container-id-1 input.sk-toggleable__control:checked~div.sk-toggleable__content {max-height: 200px;max-width: 100%;overflow: auto;}#sk-container-id-1 input.sk-toggleable__control:checked~label.sk-toggleable__label-arrow:before {content: \"▾\";}#sk-container-id-1 div.sk-estimator input.sk-toggleable__control:checked~label.sk-toggleable__label {background-color: #d4ebff;}#sk-container-id-1 div.sk-label input.sk-toggleable__control:checked~label.sk-toggleable__label {background-color: #d4ebff;}#sk-container-id-1 input.sk-hidden--visually {border: 0;clip: rect(1px 1px 1px 1px);clip: rect(1px, 1px, 1px, 1px);height: 1px;margin: -1px;overflow: hidden;padding: 0;position: absolute;width: 1px;}#sk-container-id-1 div.sk-estimator {font-family: monospace;background-color: #f0f8ff;border: 1px dotted black;border-radius: 0.25em;box-sizing: border-box;margin-bottom: 0.5em;}#sk-container-id-1 div.sk-estimator:hover {background-color: #d4ebff;}#sk-container-id-1 div.sk-parallel-item::after {content: \"\";width: 100%;border-bottom: 1px solid gray;flex-grow: 1;}#sk-container-id-1 div.sk-label:hover label.sk-toggleable__label {background-color: #d4ebff;}#sk-container-id-1 div.sk-serial::before {content: \"\";position: absolute;border-left: 1px solid gray;box-sizing: border-box;top: 0;bottom: 0;left: 50%;z-index: 0;}#sk-container-id-1 div.sk-serial {display: flex;flex-direction: column;align-items: center;background-color: white;padding-right: 0.2em;padding-left: 0.2em;position: relative;}#sk-container-id-1 div.sk-item {position: relative;z-index: 1;}#sk-container-id-1 div.sk-parallel {display: flex;align-items: stretch;justify-content: center;background-color: white;position: relative;}#sk-container-id-1 div.sk-item::before, #sk-container-id-1 div.sk-parallel-item::before {content: \"\";position: absolute;border-left: 1px solid gray;box-sizing: border-box;top: 0;bottom: 0;left: 50%;z-index: -1;}#sk-container-id-1 div.sk-parallel-item {display: flex;flex-direction: column;z-index: 1;position: relative;background-color: white;}#sk-container-id-1 div.sk-parallel-item:first-child::after {align-self: flex-end;width: 50%;}#sk-container-id-1 div.sk-parallel-item:last-child::after {align-self: flex-start;width: 50%;}#sk-container-id-1 div.sk-parallel-item:only-child::after {width: 0;}#sk-container-id-1 div.sk-dashed-wrapped {border: 1px dashed gray;margin: 0 0.4em 0.5em 0.4em;box-sizing: border-box;padding-bottom: 0.4em;background-color: white;}#sk-container-id-1 div.sk-label label {font-family: monospace;font-weight: bold;display: inline-block;line-height: 1.2em;}#sk-container-id-1 div.sk-label-container {text-align: center;}#sk-container-id-1 div.sk-container {/* jupyter's `normalize.less` sets `[hidden] { display: none; }` but bootstrap.min.css set `[hidden] { display: none !important; }` so we also need the `!important` here to be able to override the default hidden behavior on the sphinx rendered scikit-learn.org. See: https://github.com/scikit-learn/scikit-learn/issues/21755 */display: inline-block !important;position: relative;}#sk-container-id-1 div.sk-text-repr-fallback {display: none;}</style><div id=\"sk-container-id-1\" class=\"sk-top-container\"><div class=\"sk-text-repr-fallback\"><pre>KNeighborsClassifier(metric=&#x27;euclidean&#x27;, n_jobs=-1, n_neighbors=9)</pre><b>In a Jupyter environment, please rerun this cell to show the HTML representation or trust the notebook. <br />On GitHub, the HTML representation is unable to render, please try loading this page with nbviewer.org.</b></div><div class=\"sk-container\" hidden><div class=\"sk-item\"><div class=\"sk-estimator sk-toggleable\"><input class=\"sk-toggleable__control sk-hidden--visually\" id=\"sk-estimator-id-1\" type=\"checkbox\" checked><label for=\"sk-estimator-id-1\" class=\"sk-toggleable__label sk-toggleable__label-arrow\">KNeighborsClassifier</label><div class=\"sk-toggleable__content\"><pre>KNeighborsClassifier(metric=&#x27;euclidean&#x27;, n_jobs=-1, n_neighbors=9)</pre></div></div></div></div></div>"
            ]
          },
          "metadata": {},
          "execution_count": 77
        }
      ]
    },
    {
      "cell_type": "markdown",
      "source": [
        "### Supervised K-Means-failed"
      ],
      "metadata": {
        "id": "ETd9YR1Kj0MS"
      }
    },
    {
      "cell_type": "code",
      "source": [
        "from sklearn.cluster import KMeans\n",
        "from sklearn.model_selection import GridSearchCV\n",
        "from sklearn.metrics import make_scorer, accuracy_score\n",
        "\n",
        "# Create the KMeans object\n",
        "clf = KMeans(random_state=42,n_init=10)\n",
        "\n",
        "# Define the parameter grid for grid search\n",
        "param_grid = {\n",
        "    'n_clusters': [2,3,4,5, 7, 10],  # Number of clusters to consider\n",
        "    'init': ['k-means++', 'random'],  # Method for initialization\n",
        "    'max_iter': [100, 200, 300],  # Maximum number of iterations\n",
        "}\n",
        "\n",
        "# Create the GridSearchCV object\n",
        "grid_search = GridSearchCV(clf, param_grid, cv=10,scoring='accuracy')\n",
        "\n",
        "# Fit the GridSearchCV object to your training data\n",
        "grid_search.fit(X_train,y_train)\n",
        "\n",
        "# Get the best parameters and best score\n",
        "best_params = grid_search.best_params_\n",
        "best_score = grid_search.best_score_\n",
        "\n",
        "# Print the best parameters and best score\n",
        "print(\"Best Parameters:\", best_params)\n",
        "print(\"Best Score:\", best_score)"
      ],
      "metadata": {
        "id": "NkjuenYYfkAN"
      },
      "execution_count": null,
      "outputs": []
    },
    {
      "cell_type": "code",
      "source": [
        "from sklearn.cluster import KMeans\n",
        "from sklearn.metrics import make_scorer, accuracy_score\n",
        "\n",
        "# Create the KMeans object\n",
        "clf = KMeans(n_clusters=4,random_state=42,n_init=10)\n",
        "clf.fit(X_train,y_train)\n",
        "y_pred = clf.predict(X_test)"
      ],
      "metadata": {
        "id": "S9pJngnJelGS"
      },
      "execution_count": null,
      "outputs": []
    },
    {
      "cell_type": "code",
      "source": [
        "#classification report\n",
        "from sklearn.metrics import classification_report\n",
        "report = classification_report(y_test, y_pred)\n",
        "print(report)"
      ],
      "metadata": {
        "colab": {
          "base_uri": "https://localhost:8080/"
        },
        "id": "4qJlYOlzfXNd",
        "outputId": "dcc47a31-946f-4ce4-cea1-c89a4e22644a"
      },
      "execution_count": null,
      "outputs": [
        {
          "output_type": "stream",
          "name": "stdout",
          "text": [
            "              precision    recall  f1-score   support\n",
            "\n",
            "           0       0.00      0.00      0.00        66\n",
            "           1       0.23      0.18      0.20        49\n",
            "           2       0.37      0.75      0.49        48\n",
            "           3       0.00      0.00      0.00        37\n",
            "\n",
            "    accuracy                           0.23       200\n",
            "   macro avg       0.15      0.23      0.17       200\n",
            "weighted avg       0.14      0.23      0.17       200\n",
            "\n"
          ]
        }
      ]
    },
    {
      "cell_type": "markdown",
      "source": [
        "### Random Forest"
      ],
      "metadata": {
        "id": "_zgSrZ-hj-vM"
      }
    },
    {
      "cell_type": "code",
      "source": [
        "from sklearn.ensemble import RandomForestClassifier\n",
        "clf = RandomForestClassifier(random_state=42)\n",
        "\n",
        "# Define the parameter grid for grid search\n",
        "param_grid = {\n",
        "    'n_estimators': [50, 100, 200],  # Number of trees in the forest\n",
        "    'max_depth': [None, 5, 10, 20],  # Maximum depth of each tree\n",
        "    'min_samples_split': [2, 5, 10],  # Minimum number of samples required to split an internal node\n",
        "    'min_samples_leaf': [1, 2, 4]  # Minimum number of samples required to be at a leaf node\n",
        "}\n",
        "\n",
        "# Create the GridSearchCV object\n",
        "grid_search = GridSearchCV(clf, param_grid, scoring='accuracy', cv=5)\n",
        "\n",
        "# Fit the GridSearchCV object to the training data\n",
        "grid_search.fit(X_train, y_train)\n",
        "\n",
        "# Get the best parameters and best score\n",
        "best_params = grid_search.best_params_\n",
        "best_score = grid_search.best_score_\n",
        "\n",
        "# Print the best parameters and best score\n",
        "print(\"Best Parameters:\", best_params)\n",
        "print(\"Best Score:\", best_score)"
      ],
      "metadata": {
        "colab": {
          "base_uri": "https://localhost:8080/"
        },
        "id": "yXW7e-r5mcLQ",
        "outputId": "b31dc630-6d8b-4da6-ef00-7d9b51131167"
      },
      "execution_count": null,
      "outputs": [
        {
          "output_type": "stream",
          "name": "stdout",
          "text": [
            "Best Parameters: {'max_depth': 10, 'min_samples_leaf': 2, 'min_samples_split': 5, 'n_estimators': 200}\n",
            "Best Score: 0.76875\n"
          ]
        }
      ]
    },
    {
      "cell_type": "code",
      "source": [
        "best_model = grid_search.best_estimator_\n",
        "y_pred = best_model.predict(X_test)"
      ],
      "metadata": {
        "id": "AX7ng6PYmnkv"
      },
      "execution_count": null,
      "outputs": []
    },
    {
      "cell_type": "code",
      "source": [
        "#classification report\n",
        "from sklearn.metrics import classification_report\n",
        "report = classification_report(y_test, y_pred)\n",
        "print(report)"
      ],
      "metadata": {
        "colab": {
          "base_uri": "https://localhost:8080/"
        },
        "id": "ff6DKlff1QKU",
        "outputId": "70457721-3266-497b-d4ad-c83e54f529de"
      },
      "execution_count": null,
      "outputs": [
        {
          "output_type": "stream",
          "name": "stdout",
          "text": [
            "              precision    recall  f1-score   support\n",
            "\n",
            "           0       0.86      0.91      0.88        66\n",
            "           1       0.84      0.78      0.81        49\n",
            "           2       0.76      0.71      0.73        48\n",
            "           3       0.78      0.84      0.81        37\n",
            "\n",
            "    accuracy                           0.81       200\n",
            "   macro avg       0.81      0.81      0.81       200\n",
            "weighted avg       0.81      0.81      0.81       200\n",
            "\n"
          ]
        }
      ]
    },
    {
      "cell_type": "code",
      "source": [
        "#confusion matrix\n",
        "import seaborn as sns\n",
        "import matplotlib.pyplot as plt\n",
        "from sklearn.metrics import confusion_matrix\n",
        "\n",
        "cm = confusion_matrix(y_test, y_pred)\n",
        "class_labels = ['happy', 'sad', 'relaxed', 'angry']\n",
        "sns.heatmap(cm, annot=True, cmap='Blues', fmt='d', xticklabels=class_labels, yticklabels=class_labels)\n",
        "\n",
        "# Set labels, title, and ticks\n",
        "plt.xlabel('Predicted')\n",
        "plt.ylabel('True')\n",
        "plt.title('Confusion Matrix')\n",
        "plt.xticks(np.arange(len(class_labels)) + 0.5, class_labels)\n",
        "plt.yticks(np.arange(len(class_labels)) + 0.5, class_labels)\n",
        "plt.show()"
      ],
      "metadata": {
        "colab": {
          "base_uri": "https://localhost:8080/",
          "height": 472
        },
        "id": "UsuQrfMy1VML",
        "outputId": "2b3c9021-fba2-4f97-a258-b16920852a7d"
      },
      "execution_count": null,
      "outputs": [
        {
          "output_type": "display_data",
          "data": {
            "text/plain": [
              "<Figure size 640x480 with 2 Axes>"
            ],
            "image/png": "[encoded data removed]"
          },
          "metadata": {}
        }
      ]
    },
    {
      "cell_type": "markdown",
      "source": [
        "### Gradient Boosting"
      ],
      "metadata": {
        "id": "zhlcjEuuicv2"
      }
    },
    {
      "cell_type": "code",
      "source": [
        "from sklearn.ensemble import GradientBoostingClassifier\n",
        "from sklearn.model_selection import cross_val_score\n",
        "\n",
        "# Build model\n",
        "clf = GradientBoostingClassifier(learning_rate=0.7, n_estimators=200)\n",
        "# Evaluate accuracy\n",
        "scores = cross_val_score(clf, X_vect, y, cv=10)\n",
        "print('Accuracy: %0.2f (+/- %0.2f)' % (scores.mean(), scores.std() * 1.96))"
      ],
      "metadata": {
        "colab": {
          "base_uri": "https://localhost:8080/"
        },
        "id": "8U89NjGmifo1",
        "outputId": "cfcff71c-5a21-4a01-ff32-0f4b71390f16"
      },
      "execution_count": null,
      "outputs": [
        {
          "output_type": "stream",
          "name": "stdout",
          "text": [
            "Accuracy: 0.81 (+/- 0.07)\n"
          ]
        }
      ]
    },
    {
      "cell_type": "code",
      "source": [
        "from sklearn.metrics import classification_report\n",
        "clf.fit(X_train,y_train)\n",
        "y_pred = clf.predict(X_test)\n",
        "report = classification_report(y_test, y_pred)\n",
        "print(report)"
      ],
      "metadata": {
        "colab": {
          "base_uri": "https://localhost:8080/"
        },
        "id": "saGrG2NTimTj",
        "outputId": "930c1bd7-95f0-467f-f132-2c8a9dc0a5c1"
      },
      "execution_count": null,
      "outputs": [
        {
          "output_type": "stream",
          "name": "stdout",
          "text": [
            "              precision    recall  f1-score   support\n",
            "\n",
            "           0       0.87      0.91      0.89        66\n",
            "           1       0.81      0.80      0.80        49\n",
            "           2       0.83      0.71      0.76        48\n",
            "           3       0.79      0.89      0.84        37\n",
            "\n",
            "    accuracy                           0.83       200\n",
            "   macro avg       0.82      0.83      0.82       200\n",
            "weighted avg       0.83      0.83      0.83       200\n",
            "\n"
          ]
        }
      ]
    },
    {
      "cell_type": "code",
      "source": [
        "import seaborn as sns\n",
        "import matplotlib.pyplot as plt\n",
        "from sklearn.metrics import confusion_matrix\n",
        "\n",
        "cm = confusion_matrix(y_test, y_pred)\n",
        "class_labels = ['happy', 'sad', 'relaxed', 'angry']\n",
        "sns.heatmap(cm, annot=True, cmap='Blues', fmt='d', xticklabels=class_labels, yticklabels=class_labels)\n",
        "\n",
        "# Set labels, title, and ticks\n",
        "plt.xlabel('Predicted')\n",
        "plt.ylabel('True')\n",
        "plt.title('Confusion Matrix')\n",
        "plt.xticks(np.arange(len(class_labels)) + 0.5, class_labels)\n",
        "plt.yticks(np.arange(len(class_labels)) + 0.5, class_labels)\n",
        "plt.show()"
      ],
      "metadata": {
        "colab": {
          "base_uri": "https://localhost:8080/",
          "height": 472
        },
        "id": "lfMAIm4linYS",
        "outputId": "277b4880-0346-4b02-879e-8491c2bdb457"
      },
      "execution_count": null,
      "outputs": [
        {
          "output_type": "display_data",
          "data": {
            "text/plain": [
              "<Figure size 640x480 with 2 Axes>"
            ],
            "image/png": "[encoded data removed]"
          },
          "metadata": {}
        }
      ]
    },
    {
      "cell_type": "markdown",
      "source": [
        "### ANN"
      ],
      "metadata": {
        "id": "7y4MAvFvcYSl"
      }
    },
    {
      "cell_type": "code",
      "source": [
        "#1 Splitting the dataset into the Training set and Test set\n",
        "from sklearn.model_selection import train_test_split\n",
        "X_train, X_test, y_train, y_test = train_test_split(X_vect, y, test_size = 0.2, random_state = 0)"
      ],
      "metadata": {
        "id": "TmM06BdccZRu"
      },
      "execution_count": 12,
      "outputs": []
    },
    {
      "cell_type": "code",
      "source": [
        "# y_nn should be a vector (len(X_vect),4), with a 1 in the right class\n",
        "from keras.utils import np_utils\n",
        "from sklearn.preprocessing import LabelEncoder\n",
        "\n",
        "encoder = LabelEncoder()\n",
        "encoder.fit(y_train)\n",
        "encoded_Y = encoder.transform(y_train)\n",
        "y_nn = np_utils.to_categorical(encoded_Y)"
      ],
      "metadata": {
        "id": "wk4WtyvMcjfK"
      },
      "execution_count": 13,
      "outputs": []
    },
    {
      "cell_type": "code",
      "source": [
        "#2 Feature Scaling\n",
        "from sklearn.preprocessing import StandardScaler\n",
        "sc = StandardScaler()\n",
        "# we need to scale because we don't want one feature to predomine the others\n",
        "# Standardize features by removing the mean and scaling to unit variance\n",
        "X_train = sc.fit_transform(X_train)\n",
        "X_test = sc.transform(X_test)"
      ],
      "metadata": {
        "id": "WIo8ew6BclLH"
      },
      "execution_count": 14,
      "outputs": []
    },
    {
      "cell_type": "code",
      "source": [
        "#1 Importing the Keras libraries and packages\n",
        "import keras\n",
        "# Sequential module is required to initialize our ANN\n",
        "from keras.models import Sequential\n",
        "# Dense module is required to create the layers\n",
        "from keras.layers import Dense, Dropout\n",
        "    \n",
        "def build_ann(optimizer='adam', input_size=300):\n",
        "    classifier = Sequential()\n",
        "    #2 Adding first hidden layer\n",
        "    classifier.add(Dense(units = 60, kernel_initializer = 'random_normal', activation = 'sigmoid', input_dim = input_size))\n",
        "    classifier.add(Dropout(0.5))\n",
        "\n",
        "    # Adding second hidden layer\n",
        "    classifier.add(Dense(units = 60, kernel_initializer = 'random_normal', activation = 'sigmoid'))\n",
        "    classifier.add(Dropout(0.5))\n",
        "\n",
        "    # Adding output layer\n",
        "    classifier.add(Dense(units = 4, kernel_initializer = 'random_normal', activation = 'softmax'))\n",
        "\n",
        "    #3 Compiling the ANN\n",
        "    classifier.compile(optimizer=optimizer, loss = 'categorical_crossentropy', metrics = ['accuracy'])\n",
        "\n",
        "    return classifier"
      ],
      "metadata": {
        "id": "YCoWjOOzcqc8"
      },
      "execution_count": 15,
      "outputs": []
    },
    {
      "cell_type": "code",
      "source": [
        "classifier = build_ann('adam')\n",
        "classifier.fit(X_train, y_nn, batch_size = 64, epochs = 50)\n",
        "\n",
        "#1 Predicting the Test set results\n",
        "y_pred = classifier.predict(X_test)\n",
        "y_pred1 = np.argmax(y_pred,axis=1)\n",
        "\n",
        "encoder = LabelEncoder()\n",
        "encoder.fit(y_test)\n",
        "encoded_Y = encoder.transform(y_test)\n",
        "y_nn_pred = np_utils.to_categorical(encoded_Y)"
      ],
      "metadata": {
        "colab": {
          "base_uri": "https://localhost:8080/"
        },
        "id": "pqRGAYUjcsGo",
        "outputId": "6a319bd2-5323-467c-eb5b-8a74ddc5f565"
      },
      "execution_count": 16,
      "outputs": [
        {
          "output_type": "stream",
          "name": "stdout",
          "text": [
            "Epoch 1/50\n",
            "13/13 [==============================] - 2s 7ms/step - loss: 1.4066 - accuracy: 0.2375\n",
            "Epoch 2/50\n",
            "13/13 [==============================] - 0s 6ms/step - loss: 1.3514 - accuracy: 0.3462\n",
            "Epoch 3/50\n",
            "13/13 [==============================] - 0s 5ms/step - loss: 1.3127 - accuracy: 0.3600\n",
            "Epoch 4/50\n",
            "13/13 [==============================] - 0s 6ms/step - loss: 1.2851 - accuracy: 0.4238\n",
            "Epoch 5/50\n",
            "13/13 [==============================] - 0s 6ms/step - loss: 1.2183 - accuracy: 0.4925\n",
            "Epoch 6/50\n",
            "13/13 [==============================] - 0s 6ms/step - loss: 1.1547 - accuracy: 0.5512\n",
            "Epoch 7/50\n",
            "13/13 [==============================] - 0s 5ms/step - loss: 1.0934 - accuracy: 0.5725\n",
            "Epoch 8/50\n",
            "13/13 [==============================] - 0s 5ms/step - loss: 1.0335 - accuracy: 0.5537\n",
            "Epoch 9/50\n",
            "13/13 [==============================] - 0s 5ms/step - loss: 0.9604 - accuracy: 0.6413\n",
            "Epoch 10/50\n",
            "13/13 [==============================] - 0s 6ms/step - loss: 0.9103 - accuracy: 0.6612\n",
            "Epoch 11/50\n",
            "13/13 [==============================] - 0s 6ms/step - loss: 0.8622 - accuracy: 0.6862\n",
            "Epoch 12/50\n",
            "13/13 [==============================] - 0s 6ms/step - loss: 0.8377 - accuracy: 0.7088\n",
            "Epoch 13/50\n",
            "13/13 [==============================] - 0s 6ms/step - loss: 0.7934 - accuracy: 0.7175\n",
            "Epoch 14/50\n",
            "13/13 [==============================] - 0s 7ms/step - loss: 0.7490 - accuracy: 0.7450\n",
            "Epoch 15/50\n",
            "13/13 [==============================] - 0s 6ms/step - loss: 0.7189 - accuracy: 0.7750\n",
            "Epoch 16/50\n",
            "13/13 [==============================] - 0s 6ms/step - loss: 0.6679 - accuracy: 0.8112\n",
            "Epoch 17/50\n",
            "13/13 [==============================] - 0s 5ms/step - loss: 0.6542 - accuracy: 0.7950\n",
            "Epoch 18/50\n",
            "13/13 [==============================] - 0s 5ms/step - loss: 0.6007 - accuracy: 0.8263\n",
            "Epoch 19/50\n",
            "13/13 [==============================] - 0s 5ms/step - loss: 0.5819 - accuracy: 0.8250\n",
            "Epoch 20/50\n",
            "13/13 [==============================] - 0s 5ms/step - loss: 0.5731 - accuracy: 0.8138\n",
            "Epoch 21/50\n",
            "13/13 [==============================] - 0s 5ms/step - loss: 0.5342 - accuracy: 0.8300\n",
            "Epoch 22/50\n",
            "13/13 [==============================] - 0s 7ms/step - loss: 0.5146 - accuracy: 0.8600\n",
            "Epoch 23/50\n",
            "13/13 [==============================] - 0s 6ms/step - loss: 0.4984 - accuracy: 0.8425\n",
            "Epoch 24/50\n",
            "13/13 [==============================] - 0s 6ms/step - loss: 0.4746 - accuracy: 0.8587\n",
            "Epoch 25/50\n",
            "13/13 [==============================] - 0s 7ms/step - loss: 0.4633 - accuracy: 0.8675\n",
            "Epoch 26/50\n",
            "13/13 [==============================] - 0s 6ms/step - loss: 0.4115 - accuracy: 0.8838\n",
            "Epoch 27/50\n",
            "13/13 [==============================] - 0s 6ms/step - loss: 0.4023 - accuracy: 0.8800\n",
            "Epoch 28/50\n",
            "13/13 [==============================] - 0s 6ms/step - loss: 0.3860 - accuracy: 0.9025\n",
            "Epoch 29/50\n",
            "13/13 [==============================] - 0s 6ms/step - loss: 0.3840 - accuracy: 0.8838\n",
            "Epoch 30/50\n",
            "13/13 [==============================] - 0s 7ms/step - loss: 0.3755 - accuracy: 0.8925\n",
            "Epoch 31/50\n",
            "13/13 [==============================] - 0s 6ms/step - loss: 0.3599 - accuracy: 0.8938\n",
            "Epoch 32/50\n",
            "13/13 [==============================] - 0s 5ms/step - loss: 0.3480 - accuracy: 0.8975\n",
            "Epoch 33/50\n",
            "13/13 [==============================] - 0s 6ms/step - loss: 0.3603 - accuracy: 0.8975\n",
            "Epoch 34/50\n",
            "13/13 [==============================] - 0s 4ms/step - loss: 0.3131 - accuracy: 0.9075\n",
            "Epoch 35/50\n",
            "13/13 [==============================] - 0s 5ms/step - loss: 0.3216 - accuracy: 0.9187\n",
            "Epoch 36/50\n",
            "13/13 [==============================] - 0s 6ms/step - loss: 0.3241 - accuracy: 0.9038\n",
            "Epoch 37/50\n",
            "13/13 [==============================] - 0s 5ms/step - loss: 0.3305 - accuracy: 0.9000\n",
            "Epoch 38/50\n",
            "13/13 [==============================] - 0s 6ms/step - loss: 0.2889 - accuracy: 0.9100\n",
            "Epoch 39/50\n",
            "13/13 [==============================] - 0s 6ms/step - loss: 0.2885 - accuracy: 0.9250\n",
            "Epoch 40/50\n",
            "13/13 [==============================] - 0s 5ms/step - loss: 0.2913 - accuracy: 0.9187\n",
            "Epoch 41/50\n",
            "13/13 [==============================] - 0s 6ms/step - loss: 0.3047 - accuracy: 0.9125\n",
            "Epoch 42/50\n",
            "13/13 [==============================] - 0s 6ms/step - loss: 0.2681 - accuracy: 0.9413\n",
            "Epoch 43/50\n",
            "13/13 [==============================] - 0s 5ms/step - loss: 0.2846 - accuracy: 0.9175\n",
            "Epoch 44/50\n",
            "13/13 [==============================] - 0s 5ms/step - loss: 0.2851 - accuracy: 0.9225\n",
            "Epoch 45/50\n",
            "13/13 [==============================] - 0s 5ms/step - loss: 0.2586 - accuracy: 0.9187\n",
            "Epoch 46/50\n",
            "13/13 [==============================] - 0s 4ms/step - loss: 0.2557 - accuracy: 0.9325\n",
            "Epoch 47/50\n",
            "13/13 [==============================] - 0s 4ms/step - loss: 0.2539 - accuracy: 0.9325\n",
            "Epoch 48/50\n",
            "13/13 [==============================] - 0s 5ms/step - loss: 0.2589 - accuracy: 0.9262\n",
            "Epoch 49/50\n",
            "13/13 [==============================] - 0s 4ms/step - loss: 0.2548 - accuracy: 0.9300\n",
            "Epoch 50/50\n",
            "13/13 [==============================] - 0s 6ms/step - loss: 0.2418 - accuracy: 0.9312\n",
            "7/7 [==============================] - 0s 4ms/step\n"
          ]
        }
      ]
    },
    {
      "cell_type": "code",
      "source": [
        "from keras.wrappers.scikit_learn import KerasClassifier\n",
        "from sklearn.model_selection import GridSearchCV\n",
        "\n",
        "keras_classifier = KerasClassifier(build_fn=build_ann)\n",
        "parameters = {'batch_size': [128],\n",
        "              'epochs': [50],\n",
        "              'optimizer': ['adam']}\n",
        "grid_search = GridSearchCV(estimator = keras_classifier,\n",
        "                           param_grid = parameters,\n",
        "                           scoring = 'accuracy',\n",
        "                           cv = 10)\n",
        "grid_search = grid_search.fit(X_train, y_train)\n",
        "best_parameters = grid_search.best_params_\n",
        "best_accuracy = grid_search.best_score_\n",
        "best_classifier = grid_search.best_estimator_\n",
        "print('Accuracy: %0.2f' % (best_accuracy*100))"
      ],
      "metadata": {
        "colab": {
          "base_uri": "https://localhost:8080/"
        },
        "id": "I86CWLrfvyr4",
        "outputId": "fc6cfce1-3fe1-4f6d-9152-b7a0e7e5d7fb"
      },
      "execution_count": 37,
      "outputs": [
        {
          "output_type": "stream",
          "name": "stderr",
          "text": [
            "<ipython-input-37-7f986f515d23>:4: DeprecationWarning: KerasClassifier is deprecated, use Sci-Keras (https://github.com/adriangb/scikeras) instead. See https://www.adriangb.com/scikeras/stable/migration.html for help migrating.\n",
            "  keras_classifier = KerasClassifier(build_fn=build_ann)\n"
          ]
        },
        {
          "output_type": "stream",
          "name": "stdout",
          "text": [
            "Epoch 1/50\n",
            "6/6 [==============================] - 5s 11ms/step - loss: 1.3967 - accuracy: 0.2722\n",
            "Epoch 2/50\n",
            "6/6 [==============================] - 0s 13ms/step - loss: 1.3737 - accuracy: 0.3028\n",
            "Epoch 3/50\n",
            "6/6 [==============================] - 0s 19ms/step - loss: 1.3709 - accuracy: 0.3278\n",
            "Epoch 4/50\n",
            "6/6 [==============================] - 0s 16ms/step - loss: 1.3584 - accuracy: 0.3347\n",
            "Epoch 5/50\n",
            "6/6 [==============================] - 0s 15ms/step - loss: 1.3533 - accuracy: 0.3333\n",
            "Epoch 6/50\n",
            "6/6 [==============================] - 0s 13ms/step - loss: 1.3259 - accuracy: 0.3778\n",
            "Epoch 7/50\n",
            "6/6 [==============================] - 0s 7ms/step - loss: 1.3203 - accuracy: 0.4111\n",
            "Epoch 8/50\n",
            "6/6 [==============================] - 0s 10ms/step - loss: 1.2975 - accuracy: 0.4667\n",
            "Epoch 9/50\n",
            "6/6 [==============================] - 0s 7ms/step - loss: 1.2739 - accuracy: 0.4667\n",
            "Epoch 10/50\n",
            "6/6 [==============================] - 0s 7ms/step - loss: 1.2472 - accuracy: 0.4958\n",
            "Epoch 11/50\n",
            "6/6 [==============================] - 0s 7ms/step - loss: 1.2063 - accuracy: 0.5333\n",
            "Epoch 12/50\n",
            "6/6 [==============================] - 0s 7ms/step - loss: 1.1888 - accuracy: 0.5139\n",
            "Epoch 13/50\n",
            "6/6 [==============================] - 0s 7ms/step - loss: 1.1339 - accuracy: 0.5764\n",
            "Epoch 14/50\n",
            "6/6 [==============================] - 0s 7ms/step - loss: 1.1050 - accuracy: 0.5778\n",
            "Epoch 15/50\n",
            "6/6 [==============================] - 0s 7ms/step - loss: 1.0519 - accuracy: 0.6000\n",
            "Epoch 16/50\n",
            "6/6 [==============================] - 0s 7ms/step - loss: 1.0118 - accuracy: 0.6222\n",
            "Epoch 17/50\n",
            "6/6 [==============================] - 0s 7ms/step - loss: 0.9710 - accuracy: 0.6125\n",
            "Epoch 18/50\n",
            "6/6 [==============================] - 0s 8ms/step - loss: 0.9300 - accuracy: 0.6486\n",
            "Epoch 19/50\n",
            "6/6 [==============================] - 0s 9ms/step - loss: 0.9049 - accuracy: 0.6361\n",
            "Epoch 20/50\n",
            "6/6 [==============================] - 0s 8ms/step - loss: 0.8685 - accuracy: 0.6833\n",
            "Epoch 21/50\n",
            "6/6 [==============================] - 0s 9ms/step - loss: 0.8562 - accuracy: 0.6708\n",
            "Epoch 22/50\n",
            "6/6 [==============================] - 0s 8ms/step - loss: 0.8246 - accuracy: 0.6944\n",
            "Epoch 23/50\n",
            "6/6 [==============================] - 0s 7ms/step - loss: 0.7911 - accuracy: 0.7250\n",
            "Epoch 24/50\n",
            "6/6 [==============================] - 0s 9ms/step - loss: 0.7724 - accuracy: 0.7278\n",
            "Epoch 25/50\n",
            "6/6 [==============================] - 0s 7ms/step - loss: 0.7489 - accuracy: 0.7444\n",
            "Epoch 26/50\n",
            "6/6 [==============================] - 0s 7ms/step - loss: 0.7174 - accuracy: 0.7361\n",
            "Epoch 27/50\n",
            "6/6 [==============================] - 0s 7ms/step - loss: 0.7018 - accuracy: 0.7653\n",
            "Epoch 28/50\n",
            "6/6 [==============================] - 0s 7ms/step - loss: 0.6879 - accuracy: 0.7625\n",
            "Epoch 29/50\n",
            "6/6 [==============================] - 0s 7ms/step - loss: 0.6771 - accuracy: 0.7542\n",
            "Epoch 30/50\n",
            "6/6 [==============================] - 0s 8ms/step - loss: 0.6450 - accuracy: 0.8069\n",
            "Epoch 31/50\n",
            "6/6 [==============================] - 0s 14ms/step - loss: 0.6381 - accuracy: 0.7903\n",
            "Epoch 32/50\n",
            "6/6 [==============================] - 0s 7ms/step - loss: 0.6090 - accuracy: 0.8181\n",
            "Epoch 33/50\n",
            "6/6 [==============================] - 0s 8ms/step - loss: 0.6087 - accuracy: 0.8153\n",
            "Epoch 34/50\n",
            "6/6 [==============================] - 0s 8ms/step - loss: 0.6027 - accuracy: 0.8028\n",
            "Epoch 35/50\n",
            "6/6 [==============================] - 0s 11ms/step - loss: 0.5729 - accuracy: 0.8264\n",
            "Epoch 36/50\n",
            "6/6 [==============================] - 0s 10ms/step - loss: 0.5587 - accuracy: 0.8167\n",
            "Epoch 37/50\n",
            "6/6 [==============================] - 0s 8ms/step - loss: 0.5516 - accuracy: 0.8375\n",
            "Epoch 38/50\n",
            "6/6 [==============================] - 0s 8ms/step - loss: 0.5248 - accuracy: 0.8264\n",
            "Epoch 39/50\n",
            "6/6 [==============================] - 0s 9ms/step - loss: 0.5117 - accuracy: 0.8472\n",
            "Epoch 40/50\n",
            "6/6 [==============================] - 0s 9ms/step - loss: 0.5043 - accuracy: 0.8444\n",
            "Epoch 41/50\n",
            "6/6 [==============================] - 0s 5ms/step - loss: 0.4866 - accuracy: 0.8528\n",
            "Epoch 42/50\n",
            "6/6 [==============================] - 0s 5ms/step - loss: 0.4772 - accuracy: 0.8403\n",
            "Epoch 43/50\n",
            "6/6 [==============================] - 0s 6ms/step - loss: 0.4847 - accuracy: 0.8486\n",
            "Epoch 44/50\n",
            "6/6 [==============================] - 0s 5ms/step - loss: 0.4611 - accuracy: 0.8611\n",
            "Epoch 45/50\n",
            "6/6 [==============================] - 0s 5ms/step - loss: 0.4542 - accuracy: 0.8667\n",
            "Epoch 46/50\n",
            "6/6 [==============================] - 0s 7ms/step - loss: 0.4444 - accuracy: 0.8694\n",
            "Epoch 47/50\n",
            "6/6 [==============================] - 0s 5ms/step - loss: 0.4584 - accuracy: 0.8583\n",
            "Epoch 48/50\n",
            "6/6 [==============================] - 0s 5ms/step - loss: 0.4278 - accuracy: 0.8750\n",
            "Epoch 49/50\n",
            "6/6 [==============================] - 0s 6ms/step - loss: 0.4115 - accuracy: 0.8806\n",
            "Epoch 50/50\n",
            "6/6 [==============================] - 0s 5ms/step - loss: 0.4264 - accuracy: 0.8708\n",
            "3/3 [==============================] - 0s 6ms/step\n",
            "Epoch 1/50\n",
            "6/6 [==============================] - 2s 7ms/step - loss: 1.4158 - accuracy: 0.2542\n",
            "Epoch 2/50\n",
            "6/6 [==============================] - 0s 8ms/step - loss: 1.3701 - accuracy: 0.3250\n",
            "Epoch 3/50\n",
            "6/6 [==============================] - 0s 8ms/step - loss: 1.3556 - accuracy: 0.3319\n",
            "Epoch 4/50\n",
            "6/6 [==============================] - 0s 8ms/step - loss: 1.3508 - accuracy: 0.3306\n",
            "Epoch 5/50\n",
            "6/6 [==============================] - 0s 9ms/step - loss: 1.3377 - accuracy: 0.3694\n",
            "Epoch 6/50\n",
            "6/6 [==============================] - 0s 14ms/step - loss: 1.3203 - accuracy: 0.3625\n",
            "Epoch 7/50\n",
            "6/6 [==============================] - 0s 15ms/step - loss: 1.3099 - accuracy: 0.4069\n",
            "Epoch 8/50\n",
            "6/6 [==============================] - 0s 20ms/step - loss: 1.2818 - accuracy: 0.4583\n",
            "Epoch 9/50\n",
            "6/6 [==============================] - 0s 19ms/step - loss: 1.2521 - accuracy: 0.4722\n",
            "Epoch 10/50\n",
            "6/6 [==============================] - 0s 10ms/step - loss: 1.2260 - accuracy: 0.5014\n",
            "Epoch 11/50\n",
            "6/6 [==============================] - 0s 16ms/step - loss: 1.1853 - accuracy: 0.5153\n",
            "Epoch 12/50\n",
            "6/6 [==============================] - 0s 10ms/step - loss: 1.1527 - accuracy: 0.5167\n",
            "Epoch 13/50\n",
            "6/6 [==============================] - 0s 14ms/step - loss: 1.1091 - accuracy: 0.5528\n",
            "Epoch 14/50\n",
            "6/6 [==============================] - 0s 13ms/step - loss: 1.0770 - accuracy: 0.5681\n",
            "Epoch 15/50\n",
            "6/6 [==============================] - 0s 13ms/step - loss: 1.0293 - accuracy: 0.5806\n",
            "Epoch 16/50\n",
            "6/6 [==============================] - 0s 14ms/step - loss: 0.9969 - accuracy: 0.6069\n",
            "Epoch 17/50\n",
            "6/6 [==============================] - 0s 10ms/step - loss: 0.9456 - accuracy: 0.6236\n",
            "Epoch 18/50\n",
            "6/6 [==============================] - 0s 10ms/step - loss: 0.9306 - accuracy: 0.6222\n",
            "Epoch 19/50\n",
            "6/6 [==============================] - 0s 9ms/step - loss: 0.9342 - accuracy: 0.6167\n",
            "Epoch 20/50\n",
            "6/6 [==============================] - 0s 10ms/step - loss: 0.9071 - accuracy: 0.6236\n",
            "Epoch 21/50\n",
            "6/6 [==============================] - 0s 9ms/step - loss: 0.8649 - accuracy: 0.6681\n",
            "Epoch 22/50\n",
            "6/6 [==============================] - 0s 9ms/step - loss: 0.8502 - accuracy: 0.6667\n",
            "Epoch 23/50\n",
            "6/6 [==============================] - 0s 12ms/step - loss: 0.8186 - accuracy: 0.6806\n",
            "Epoch 24/50\n",
            "6/6 [==============================] - 0s 12ms/step - loss: 0.8114 - accuracy: 0.6681\n",
            "Epoch 25/50\n",
            "6/6 [==============================] - 0s 9ms/step - loss: 0.8002 - accuracy: 0.6889\n",
            "Epoch 26/50\n",
            "6/6 [==============================] - 0s 10ms/step - loss: 0.7732 - accuracy: 0.6944\n",
            "Epoch 27/50\n",
            "6/6 [==============================] - 0s 9ms/step - loss: 0.7707 - accuracy: 0.7056\n",
            "Epoch 28/50\n",
            "6/6 [==============================] - 0s 11ms/step - loss: 0.7552 - accuracy: 0.7097\n",
            "Epoch 29/50\n",
            "6/6 [==============================] - 0s 12ms/step - loss: 0.7354 - accuracy: 0.7333\n",
            "Epoch 30/50\n",
            "6/6 [==============================] - 0s 10ms/step - loss: 0.7175 - accuracy: 0.7264\n",
            "Epoch 31/50\n",
            "6/6 [==============================] - 0s 10ms/step - loss: 0.6928 - accuracy: 0.7458\n",
            "Epoch 32/50\n",
            "6/6 [==============================] - 0s 10ms/step - loss: 0.6996 - accuracy: 0.7417\n",
            "Epoch 33/50\n",
            "6/6 [==============================] - 0s 12ms/step - loss: 0.6926 - accuracy: 0.7139\n",
            "Epoch 34/50\n",
            "6/6 [==============================] - 0s 10ms/step - loss: 0.6737 - accuracy: 0.7750\n",
            "Epoch 35/50\n",
            "6/6 [==============================] - 0s 10ms/step - loss: 0.6436 - accuracy: 0.7764\n",
            "Epoch 36/50\n",
            "6/6 [==============================] - 0s 10ms/step - loss: 0.6360 - accuracy: 0.8042\n",
            "Epoch 37/50\n",
            "6/6 [==============================] - 0s 10ms/step - loss: 0.6168 - accuracy: 0.7958\n",
            "Epoch 38/50\n",
            "6/6 [==============================] - 0s 9ms/step - loss: 0.6090 - accuracy: 0.7861\n",
            "Epoch 39/50\n",
            "6/6 [==============================] - 0s 9ms/step - loss: 0.5981 - accuracy: 0.7958\n",
            "Epoch 40/50\n",
            "6/6 [==============================] - 0s 9ms/step - loss: 0.5884 - accuracy: 0.8014\n",
            "Epoch 41/50\n",
            "6/6 [==============================] - 0s 9ms/step - loss: 0.5780 - accuracy: 0.8069\n",
            "Epoch 42/50\n",
            "6/6 [==============================] - 0s 10ms/step - loss: 0.5737 - accuracy: 0.8042\n",
            "Epoch 43/50\n",
            "6/6 [==============================] - 0s 13ms/step - loss: 0.5594 - accuracy: 0.8028\n",
            "Epoch 44/50\n",
            "6/6 [==============================] - 0s 9ms/step - loss: 0.5669 - accuracy: 0.8097\n",
            "Epoch 45/50\n",
            "6/6 [==============================] - 0s 10ms/step - loss: 0.5317 - accuracy: 0.8181\n",
            "Epoch 46/50\n",
            "6/6 [==============================] - 0s 11ms/step - loss: 0.5396 - accuracy: 0.8111\n",
            "Epoch 47/50\n",
            "6/6 [==============================] - 0s 10ms/step - loss: 0.5381 - accuracy: 0.8181\n",
            "Epoch 48/50\n",
            "6/6 [==============================] - 0s 13ms/step - loss: 0.5129 - accuracy: 0.8194\n",
            "Epoch 49/50\n",
            "6/6 [==============================] - 0s 15ms/step - loss: 0.5180 - accuracy: 0.8417\n",
            "Epoch 50/50\n",
            "6/6 [==============================] - 0s 8ms/step - loss: 0.4817 - accuracy: 0.8486\n",
            "3/3 [==============================] - 0s 4ms/step\n",
            "Epoch 1/50\n",
            "6/6 [==============================] - 2s 7ms/step - loss: 1.4167 - accuracy: 0.2361\n",
            "Epoch 2/50\n",
            "6/6 [==============================] - 0s 6ms/step - loss: 1.3791 - accuracy: 0.3250\n",
            "Epoch 3/50\n",
            "6/6 [==============================] - 0s 8ms/step - loss: 1.3702 - accuracy: 0.3181\n",
            "Epoch 4/50\n",
            "6/6 [==============================] - 0s 6ms/step - loss: 1.3674 - accuracy: 0.3208\n",
            "Epoch 5/50\n",
            "6/6 [==============================] - 0s 5ms/step - loss: 1.3366 - accuracy: 0.3528\n",
            "Epoch 6/50\n",
            "6/6 [==============================] - 0s 5ms/step - loss: 1.3434 - accuracy: 0.3417\n",
            "Epoch 7/50\n",
            "6/6 [==============================] - 0s 5ms/step - loss: 1.3150 - accuracy: 0.3986\n",
            "Epoch 8/50\n",
            "6/6 [==============================] - 0s 5ms/step - loss: 1.2958 - accuracy: 0.4167\n",
            "Epoch 9/50\n",
            "6/6 [==============================] - 0s 5ms/step - loss: 1.2659 - accuracy: 0.4583\n",
            "Epoch 10/50\n",
            "6/6 [==============================] - 0s 5ms/step - loss: 1.2289 - accuracy: 0.4764\n",
            "Epoch 11/50\n",
            "6/6 [==============================] - 0s 6ms/step - loss: 1.2114 - accuracy: 0.4833\n",
            "Epoch 12/50\n",
            "6/6 [==============================] - 0s 6ms/step - loss: 1.1873 - accuracy: 0.5194\n",
            "Epoch 13/50\n",
            "6/6 [==============================] - 0s 6ms/step - loss: 1.1311 - accuracy: 0.5667\n",
            "Epoch 14/50\n",
            "6/6 [==============================] - 0s 6ms/step - loss: 1.0937 - accuracy: 0.5736\n",
            "Epoch 15/50\n",
            "6/6 [==============================] - 0s 7ms/step - loss: 1.0524 - accuracy: 0.6181\n",
            "Epoch 16/50\n",
            "6/6 [==============================] - 0s 5ms/step - loss: 1.0275 - accuracy: 0.6167\n",
            "Epoch 17/50\n",
            "6/6 [==============================] - 0s 5ms/step - loss: 1.0028 - accuracy: 0.6111\n",
            "Epoch 18/50\n",
            "6/6 [==============================] - 0s 5ms/step - loss: 0.9662 - accuracy: 0.6319\n",
            "Epoch 19/50\n",
            "6/6 [==============================] - 0s 5ms/step - loss: 0.9328 - accuracy: 0.6583\n",
            "Epoch 20/50\n",
            "6/6 [==============================] - 0s 5ms/step - loss: 0.9061 - accuracy: 0.6750\n",
            "Epoch 21/50\n",
            "6/6 [==============================] - 0s 5ms/step - loss: 0.8948 - accuracy: 0.6778\n",
            "Epoch 22/50\n",
            "6/6 [==============================] - 0s 5ms/step - loss: 0.8566 - accuracy: 0.6694\n",
            "Epoch 23/50\n",
            "6/6 [==============================] - 0s 5ms/step - loss: 0.8342 - accuracy: 0.6944\n",
            "Epoch 24/50\n",
            "6/6 [==============================] - 0s 6ms/step - loss: 0.8173 - accuracy: 0.6944\n",
            "Epoch 25/50\n",
            "6/6 [==============================] - 0s 5ms/step - loss: 0.8011 - accuracy: 0.7167\n",
            "Epoch 26/50\n",
            "6/6 [==============================] - 0s 5ms/step - loss: 0.7665 - accuracy: 0.7208\n",
            "Epoch 27/50\n",
            "6/6 [==============================] - 0s 5ms/step - loss: 0.7453 - accuracy: 0.7319\n",
            "Epoch 28/50\n",
            "6/6 [==============================] - 0s 5ms/step - loss: 0.7305 - accuracy: 0.7444\n",
            "Epoch 29/50\n",
            "6/6 [==============================] - 0s 6ms/step - loss: 0.6954 - accuracy: 0.7944\n",
            "Epoch 30/50\n",
            "6/6 [==============================] - 0s 5ms/step - loss: 0.7061 - accuracy: 0.7542\n",
            "Epoch 31/50\n",
            "6/6 [==============================] - 0s 5ms/step - loss: 0.6592 - accuracy: 0.7889\n",
            "Epoch 32/50\n",
            "6/6 [==============================] - 0s 6ms/step - loss: 0.6613 - accuracy: 0.7694\n",
            "Epoch 33/50\n",
            "6/6 [==============================] - 0s 5ms/step - loss: 0.6325 - accuracy: 0.7917\n",
            "Epoch 34/50\n",
            "6/6 [==============================] - 0s 5ms/step - loss: 0.6015 - accuracy: 0.8028\n",
            "Epoch 35/50\n",
            "6/6 [==============================] - 0s 6ms/step - loss: 0.6013 - accuracy: 0.8097\n",
            "Epoch 36/50\n",
            "6/6 [==============================] - 0s 5ms/step - loss: 0.6071 - accuracy: 0.8014\n",
            "Epoch 37/50\n",
            "6/6 [==============================] - 0s 6ms/step - loss: 0.5671 - accuracy: 0.8194\n",
            "Epoch 38/50\n",
            "6/6 [==============================] - 0s 5ms/step - loss: 0.5712 - accuracy: 0.8194\n",
            "Epoch 39/50\n",
            "6/6 [==============================] - 0s 5ms/step - loss: 0.5345 - accuracy: 0.8319\n",
            "Epoch 40/50\n",
            "6/6 [==============================] - 0s 5ms/step - loss: 0.5406 - accuracy: 0.8417\n",
            "Epoch 41/50\n",
            "6/6 [==============================] - 0s 7ms/step - loss: 0.5324 - accuracy: 0.8361\n",
            "Epoch 42/50\n",
            "6/6 [==============================] - 0s 6ms/step - loss: 0.5014 - accuracy: 0.8389\n",
            "Epoch 43/50\n",
            "6/6 [==============================] - 0s 5ms/step - loss: 0.5160 - accuracy: 0.8319\n",
            "Epoch 44/50\n",
            "6/6 [==============================] - 0s 6ms/step - loss: 0.5042 - accuracy: 0.8375\n",
            "Epoch 45/50\n",
            "6/6 [==============================] - 0s 7ms/step - loss: 0.4708 - accuracy: 0.8486\n",
            "Epoch 46/50\n",
            "6/6 [==============================] - 0s 5ms/step - loss: 0.4555 - accuracy: 0.8556\n",
            "Epoch 47/50\n",
            "6/6 [==============================] - 0s 5ms/step - loss: 0.4568 - accuracy: 0.8694\n",
            "Epoch 48/50\n",
            "6/6 [==============================] - 0s 5ms/step - loss: 0.4621 - accuracy: 0.8639\n",
            "Epoch 49/50\n",
            "6/6 [==============================] - 0s 5ms/step - loss: 0.4496 - accuracy: 0.8667\n",
            "Epoch 50/50\n",
            "6/6 [==============================] - 0s 5ms/step - loss: 0.4229 - accuracy: 0.8708\n",
            "3/3 [==============================] - 0s 6ms/step\n",
            "Epoch 1/50\n",
            "6/6 [==============================] - 1s 5ms/step - loss: 1.4047 - accuracy: 0.2264\n",
            "Epoch 2/50\n",
            "6/6 [==============================] - 0s 5ms/step - loss: 1.3701 - accuracy: 0.3181\n",
            "Epoch 3/50\n",
            "6/6 [==============================] - 0s 6ms/step - loss: 1.3642 - accuracy: 0.3333\n",
            "Epoch 4/50\n",
            "6/6 [==============================] - 0s 5ms/step - loss: 1.3479 - accuracy: 0.3514\n",
            "Epoch 5/50\n",
            "6/6 [==============================] - 0s 5ms/step - loss: 1.3345 - accuracy: 0.3625\n",
            "Epoch 6/50\n",
            "6/6 [==============================] - 0s 5ms/step - loss: 1.3223 - accuracy: 0.3903\n",
            "Epoch 7/50\n",
            "6/6 [==============================] - 0s 6ms/step - loss: 1.3092 - accuracy: 0.4000\n",
            "Epoch 8/50\n",
            "6/6 [==============================] - 0s 6ms/step - loss: 1.2819 - accuracy: 0.4500\n",
            "Epoch 9/50\n",
            "6/6 [==============================] - 0s 5ms/step - loss: 1.2581 - accuracy: 0.4764\n",
            "Epoch 10/50\n",
            "6/6 [==============================] - 0s 5ms/step - loss: 1.2162 - accuracy: 0.4861\n",
            "Epoch 11/50\n",
            "6/6 [==============================] - 0s 6ms/step - loss: 1.1751 - accuracy: 0.5097\n",
            "Epoch 12/50\n",
            "6/6 [==============================] - 0s 5ms/step - loss: 1.1425 - accuracy: 0.5444\n",
            "Epoch 13/50\n",
            "6/6 [==============================] - 0s 5ms/step - loss: 1.0921 - accuracy: 0.5653\n",
            "Epoch 14/50\n",
            "6/6 [==============================] - 0s 5ms/step - loss: 1.0715 - accuracy: 0.5722\n",
            "Epoch 15/50\n",
            "6/6 [==============================] - 0s 5ms/step - loss: 1.0127 - accuracy: 0.6181\n",
            "Epoch 16/50\n",
            "6/6 [==============================] - 0s 5ms/step - loss: 0.9755 - accuracy: 0.6222\n",
            "Epoch 17/50\n",
            "6/6 [==============================] - 0s 5ms/step - loss: 0.9550 - accuracy: 0.6194\n",
            "Epoch 18/50\n",
            "6/6 [==============================] - 0s 5ms/step - loss: 0.9238 - accuracy: 0.6486\n",
            "Epoch 19/50\n",
            "6/6 [==============================] - 0s 6ms/step - loss: 0.8945 - accuracy: 0.6653\n",
            "Epoch 20/50\n",
            "6/6 [==============================] - 0s 5ms/step - loss: 0.8645 - accuracy: 0.6792\n",
            "Epoch 21/50\n",
            "6/6 [==============================] - 0s 5ms/step - loss: 0.8314 - accuracy: 0.7097\n",
            "Epoch 22/50\n",
            "6/6 [==============================] - 0s 6ms/step - loss: 0.8087 - accuracy: 0.6958\n",
            "Epoch 23/50\n",
            "6/6 [==============================] - 0s 6ms/step - loss: 0.7857 - accuracy: 0.7139\n",
            "Epoch 24/50\n",
            "6/6 [==============================] - 0s 5ms/step - loss: 0.7537 - accuracy: 0.7417\n",
            "Epoch 25/50\n",
            "6/6 [==============================] - 0s 6ms/step - loss: 0.7479 - accuracy: 0.7431\n",
            "Epoch 26/50\n",
            "6/6 [==============================] - 0s 5ms/step - loss: 0.7293 - accuracy: 0.7444\n",
            "Epoch 27/50\n",
            "6/6 [==============================] - 0s 5ms/step - loss: 0.7056 - accuracy: 0.7806\n",
            "Epoch 28/50\n",
            "6/6 [==============================] - 0s 5ms/step - loss: 0.6992 - accuracy: 0.7819\n",
            "Epoch 29/50\n",
            "6/6 [==============================] - 0s 6ms/step - loss: 0.6802 - accuracy: 0.7875\n",
            "Epoch 30/50\n",
            "6/6 [==============================] - 0s 5ms/step - loss: 0.6410 - accuracy: 0.7958\n",
            "Epoch 31/50\n",
            "6/6 [==============================] - 0s 5ms/step - loss: 0.6183 - accuracy: 0.8000\n",
            "Epoch 32/50\n",
            "6/6 [==============================] - 0s 5ms/step - loss: 0.6127 - accuracy: 0.8028\n",
            "Epoch 33/50\n",
            "6/6 [==============================] - 0s 6ms/step - loss: 0.5905 - accuracy: 0.8208\n",
            "Epoch 34/50\n",
            "6/6 [==============================] - 0s 5ms/step - loss: 0.5979 - accuracy: 0.8083\n",
            "Epoch 35/50\n",
            "6/6 [==============================] - 0s 5ms/step - loss: 0.5780 - accuracy: 0.8139\n",
            "Epoch 36/50\n",
            "6/6 [==============================] - 0s 5ms/step - loss: 0.5675 - accuracy: 0.8264\n",
            "Epoch 37/50\n",
            "6/6 [==============================] - 0s 6ms/step - loss: 0.5502 - accuracy: 0.8361\n",
            "Epoch 38/50\n",
            "6/6 [==============================] - 0s 5ms/step - loss: 0.5379 - accuracy: 0.8236\n",
            "Epoch 39/50\n",
            "6/6 [==============================] - 0s 6ms/step - loss: 0.5104 - accuracy: 0.8417\n",
            "Epoch 40/50\n",
            "6/6 [==============================] - 0s 6ms/step - loss: 0.5021 - accuracy: 0.8472\n",
            "Epoch 41/50\n",
            "6/6 [==============================] - 0s 5ms/step - loss: 0.4862 - accuracy: 0.8653\n",
            "Epoch 42/50\n",
            "6/6 [==============================] - 0s 5ms/step - loss: 0.4883 - accuracy: 0.8458\n",
            "Epoch 43/50\n",
            "6/6 [==============================] - 0s 5ms/step - loss: 0.4675 - accuracy: 0.8583\n",
            "Epoch 44/50\n",
            "6/6 [==============================] - 0s 5ms/step - loss: 0.4711 - accuracy: 0.8708\n",
            "Epoch 45/50\n",
            "6/6 [==============================] - 0s 5ms/step - loss: 0.4485 - accuracy: 0.8681\n",
            "Epoch 46/50\n",
            "6/6 [==============================] - 0s 5ms/step - loss: 0.4484 - accuracy: 0.8542\n",
            "Epoch 47/50\n",
            "6/6 [==============================] - 0s 5ms/step - loss: 0.4573 - accuracy: 0.8542\n",
            "Epoch 48/50\n",
            "6/6 [==============================] - 0s 5ms/step - loss: 0.4268 - accuracy: 0.8694\n",
            "Epoch 49/50\n",
            "6/6 [==============================] - 0s 5ms/step - loss: 0.4229 - accuracy: 0.8639\n",
            "Epoch 50/50\n",
            "6/6 [==============================] - 0s 6ms/step - loss: 0.4288 - accuracy: 0.8889\n"
          ]
        },
        {
          "output_type": "stream",
          "name": "stderr",
          "text": [
            "WARNING:tensorflow:5 out of the last 17 calls to <function Model.make_predict_function.<locals>.predict_function at 0x7f18267f0940> triggered tf.function retracing. Tracing is expensive and the excessive number of tracings could be due to (1) creating @tf.function repeatedly in a loop, (2) passing tensors with different shapes, (3) passing Python objects instead of tensors. For (1), please define your @tf.function outside of the loop. For (2), @tf.function has reduce_retracing=True option that can avoid unnecessary retracing. For (3), please refer to https://www.tensorflow.org/guide/function#controlling_retracing and https://www.tensorflow.org/api_docs/python/tf/function for  more details.\n"
          ]
        },
        {
          "output_type": "stream",
          "name": "stdout",
          "text": [
            "3/3 [==============================] - 0s 6ms/step\n",
            "Epoch 1/50\n",
            "6/6 [==============================] - 1s 6ms/step - loss: 1.4047 - accuracy: 0.2986\n",
            "Epoch 2/50\n",
            "6/6 [==============================] - 0s 5ms/step - loss: 1.3751 - accuracy: 0.3069\n",
            "Epoch 3/50\n",
            "6/6 [==============================] - 0s 6ms/step - loss: 1.3669 - accuracy: 0.3111\n",
            "Epoch 4/50\n",
            "6/6 [==============================] - 0s 5ms/step - loss: 1.3594 - accuracy: 0.3167\n",
            "Epoch 5/50\n",
            "6/6 [==============================] - 0s 5ms/step - loss: 1.3454 - accuracy: 0.3542\n",
            "Epoch 6/50\n",
            "6/6 [==============================] - 0s 5ms/step - loss: 1.3224 - accuracy: 0.3944\n",
            "Epoch 7/50\n",
            "6/6 [==============================] - 0s 4ms/step - loss: 1.3131 - accuracy: 0.4083\n",
            "Epoch 8/50\n",
            "6/6 [==============================] - 0s 6ms/step - loss: 1.2917 - accuracy: 0.4181\n",
            "Epoch 9/50\n",
            "6/6 [==============================] - 0s 5ms/step - loss: 1.2621 - accuracy: 0.4528\n",
            "Epoch 10/50\n",
            "6/6 [==============================] - 0s 7ms/step - loss: 1.2347 - accuracy: 0.4694\n",
            "Epoch 11/50\n",
            "6/6 [==============================] - 0s 5ms/step - loss: 1.1906 - accuracy: 0.5194\n",
            "Epoch 12/50\n",
            "6/6 [==============================] - 0s 5ms/step - loss: 1.1542 - accuracy: 0.5167\n",
            "Epoch 13/50\n",
            "6/6 [==============================] - 0s 5ms/step - loss: 1.1070 - accuracy: 0.5486\n",
            "Epoch 14/50\n",
            "6/6 [==============================] - 0s 5ms/step - loss: 1.0761 - accuracy: 0.5694\n",
            "Epoch 15/50\n",
            "6/6 [==============================] - 0s 5ms/step - loss: 1.0259 - accuracy: 0.5667\n",
            "Epoch 16/50\n",
            "6/6 [==============================] - 0s 5ms/step - loss: 0.9994 - accuracy: 0.5708\n",
            "Epoch 17/50\n",
            "6/6 [==============================] - 0s 5ms/step - loss: 0.9511 - accuracy: 0.5889\n",
            "Epoch 18/50\n",
            "6/6 [==============================] - 0s 8ms/step - loss: 0.9192 - accuracy: 0.6250\n",
            "Epoch 19/50\n",
            "6/6 [==============================] - 0s 8ms/step - loss: 0.8899 - accuracy: 0.6361\n",
            "Epoch 20/50\n",
            "6/6 [==============================] - 0s 7ms/step - loss: 0.8758 - accuracy: 0.6403\n",
            "Epoch 21/50\n",
            "6/6 [==============================] - 0s 7ms/step - loss: 0.8426 - accuracy: 0.6403\n",
            "Epoch 22/50\n",
            "6/6 [==============================] - 0s 6ms/step - loss: 0.8331 - accuracy: 0.6500\n",
            "Epoch 23/50\n",
            "6/6 [==============================] - 0s 6ms/step - loss: 0.8032 - accuracy: 0.6472\n",
            "Epoch 24/50\n",
            "6/6 [==============================] - 0s 7ms/step - loss: 0.7806 - accuracy: 0.6833\n",
            "Epoch 25/50\n",
            "6/6 [==============================] - 0s 6ms/step - loss: 0.7470 - accuracy: 0.7167\n",
            "Epoch 26/50\n",
            "6/6 [==============================] - 0s 9ms/step - loss: 0.7658 - accuracy: 0.6903\n",
            "Epoch 27/50\n",
            "6/6 [==============================] - 0s 7ms/step - loss: 0.7398 - accuracy: 0.7042\n",
            "Epoch 28/50\n",
            "6/6 [==============================] - 0s 7ms/step - loss: 0.7257 - accuracy: 0.6931\n",
            "Epoch 29/50\n",
            "6/6 [==============================] - 0s 6ms/step - loss: 0.7143 - accuracy: 0.7208\n",
            "Epoch 30/50\n",
            "6/6 [==============================] - 0s 6ms/step - loss: 0.7086 - accuracy: 0.7208\n",
            "Epoch 31/50\n",
            "6/6 [==============================] - 0s 7ms/step - loss: 0.6820 - accuracy: 0.7278\n",
            "Epoch 32/50\n",
            "6/6 [==============================] - 0s 8ms/step - loss: 0.6561 - accuracy: 0.7639\n",
            "Epoch 33/50\n",
            "6/6 [==============================] - 0s 8ms/step - loss: 0.6755 - accuracy: 0.7319\n",
            "Epoch 34/50\n",
            "6/6 [==============================] - 0s 7ms/step - loss: 0.6529 - accuracy: 0.7514\n",
            "Epoch 35/50\n",
            "6/6 [==============================] - 0s 7ms/step - loss: 0.6414 - accuracy: 0.7667\n",
            "Epoch 36/50\n",
            "6/6 [==============================] - 0s 6ms/step - loss: 0.6338 - accuracy: 0.7528\n",
            "Epoch 37/50\n",
            "6/6 [==============================] - 0s 8ms/step - loss: 0.6141 - accuracy: 0.7736\n",
            "Epoch 38/50\n",
            "6/6 [==============================] - 0s 7ms/step - loss: 0.5837 - accuracy: 0.7958\n",
            "Epoch 39/50\n",
            "6/6 [==============================] - 0s 7ms/step - loss: 0.5882 - accuracy: 0.7778\n",
            "Epoch 40/50\n",
            "6/6 [==============================] - 0s 7ms/step - loss: 0.5925 - accuracy: 0.7861\n",
            "Epoch 41/50\n",
            "6/6 [==============================] - 0s 10ms/step - loss: 0.5798 - accuracy: 0.7875\n",
            "Epoch 42/50\n",
            "6/6 [==============================] - 0s 8ms/step - loss: 0.5657 - accuracy: 0.7819\n",
            "Epoch 43/50\n",
            "6/6 [==============================] - 0s 7ms/step - loss: 0.5731 - accuracy: 0.7833\n",
            "Epoch 44/50\n",
            "6/6 [==============================] - 0s 7ms/step - loss: 0.5309 - accuracy: 0.8181\n",
            "Epoch 45/50\n",
            "6/6 [==============================] - 0s 7ms/step - loss: 0.5346 - accuracy: 0.8056\n",
            "Epoch 46/50\n",
            "6/6 [==============================] - 0s 6ms/step - loss: 0.5218 - accuracy: 0.7889\n",
            "Epoch 47/50\n",
            "6/6 [==============================] - 0s 7ms/step - loss: 0.5227 - accuracy: 0.8250\n",
            "Epoch 48/50\n",
            "6/6 [==============================] - 0s 7ms/step - loss: 0.5090 - accuracy: 0.8236\n",
            "Epoch 49/50\n",
            "6/6 [==============================] - 0s 7ms/step - loss: 0.4891 - accuracy: 0.8389\n",
            "Epoch 50/50\n",
            "6/6 [==============================] - 0s 8ms/step - loss: 0.4939 - accuracy: 0.8167\n"
          ]
        },
        {
          "output_type": "stream",
          "name": "stderr",
          "text": [
            "WARNING:tensorflow:5 out of the last 13 calls to <function Model.make_predict_function.<locals>.predict_function at 0x7f1826495090> triggered tf.function retracing. Tracing is expensive and the excessive number of tracings could be due to (1) creating @tf.function repeatedly in a loop, (2) passing tensors with different shapes, (3) passing Python objects instead of tensors. For (1), please define your @tf.function outside of the loop. For (2), @tf.function has reduce_retracing=True option that can avoid unnecessary retracing. For (3), please refer to https://www.tensorflow.org/guide/function#controlling_retracing and https://www.tensorflow.org/api_docs/python/tf/function for  more details.\n"
          ]
        },
        {
          "output_type": "stream",
          "name": "stdout",
          "text": [
            "3/3 [==============================] - 0s 4ms/step\n",
            "Epoch 1/50\n",
            "6/6 [==============================] - 1s 4ms/step - loss: 1.3835 - accuracy: 0.3028\n",
            "Epoch 2/50\n",
            "6/6 [==============================] - 0s 6ms/step - loss: 1.3748 - accuracy: 0.2986\n",
            "Epoch 3/50\n",
            "6/6 [==============================] - 0s 5ms/step - loss: 1.3574 - accuracy: 0.3319\n",
            "Epoch 4/50\n",
            "6/6 [==============================] - 0s 5ms/step - loss: 1.3518 - accuracy: 0.3375\n",
            "Epoch 5/50\n",
            "6/6 [==============================] - 0s 5ms/step - loss: 1.3337 - accuracy: 0.3653\n",
            "Epoch 6/50\n",
            "6/6 [==============================] - 0s 5ms/step - loss: 1.3220 - accuracy: 0.3875\n",
            "Epoch 7/50\n",
            "6/6 [==============================] - 0s 5ms/step - loss: 1.2971 - accuracy: 0.4194\n",
            "Epoch 8/50\n",
            "6/6 [==============================] - 0s 7ms/step - loss: 1.2785 - accuracy: 0.4389\n",
            "Epoch 9/50\n",
            "6/6 [==============================] - 0s 5ms/step - loss: 1.2451 - accuracy: 0.4861\n",
            "Epoch 10/50\n",
            "6/6 [==============================] - 0s 5ms/step - loss: 1.2266 - accuracy: 0.4667\n",
            "Epoch 11/50\n",
            "6/6 [==============================] - 0s 6ms/step - loss: 1.1774 - accuracy: 0.4944\n",
            "Epoch 12/50\n",
            "6/6 [==============================] - 0s 6ms/step - loss: 1.1491 - accuracy: 0.5111\n",
            "Epoch 13/50\n",
            "6/6 [==============================] - 0s 5ms/step - loss: 1.0988 - accuracy: 0.5625\n",
            "Epoch 14/50\n",
            "6/6 [==============================] - 0s 5ms/step - loss: 1.0622 - accuracy: 0.5611\n",
            "Epoch 15/50\n",
            "6/6 [==============================] - 0s 5ms/step - loss: 1.0255 - accuracy: 0.6056\n",
            "Epoch 16/50\n",
            "6/6 [==============================] - 0s 5ms/step - loss: 0.9680 - accuracy: 0.6403\n",
            "Epoch 17/50\n",
            "6/6 [==============================] - 0s 5ms/step - loss: 0.9472 - accuracy: 0.6375\n",
            "Epoch 18/50\n",
            "6/6 [==============================] - 0s 5ms/step - loss: 0.9237 - accuracy: 0.6833\n",
            "Epoch 19/50\n",
            "6/6 [==============================] - 0s 5ms/step - loss: 0.8847 - accuracy: 0.6972\n",
            "Epoch 20/50\n",
            "6/6 [==============================] - 0s 5ms/step - loss: 0.8661 - accuracy: 0.6986\n",
            "Epoch 21/50\n",
            "6/6 [==============================] - 0s 5ms/step - loss: 0.8470 - accuracy: 0.7014\n",
            "Epoch 22/50\n",
            "6/6 [==============================] - 0s 5ms/step - loss: 0.8121 - accuracy: 0.7083\n",
            "Epoch 23/50\n",
            "6/6 [==============================] - 0s 5ms/step - loss: 0.7834 - accuracy: 0.7417\n",
            "Epoch 24/50\n",
            "6/6 [==============================] - 0s 5ms/step - loss: 0.7644 - accuracy: 0.7458\n",
            "Epoch 25/50\n",
            "6/6 [==============================] - 0s 5ms/step - loss: 0.7285 - accuracy: 0.7875\n",
            "Epoch 26/50\n",
            "6/6 [==============================] - 0s 5ms/step - loss: 0.7272 - accuracy: 0.7667\n",
            "Epoch 27/50\n",
            "6/6 [==============================] - 0s 5ms/step - loss: 0.6933 - accuracy: 0.7806\n",
            "Epoch 28/50\n",
            "6/6 [==============================] - 0s 5ms/step - loss: 0.6673 - accuracy: 0.8014\n",
            "Epoch 29/50\n",
            "6/6 [==============================] - 0s 5ms/step - loss: 0.6553 - accuracy: 0.7889\n",
            "Epoch 30/50\n",
            "6/6 [==============================] - 0s 5ms/step - loss: 0.6406 - accuracy: 0.7875\n",
            "Epoch 31/50\n",
            "6/6 [==============================] - 0s 5ms/step - loss: 0.6151 - accuracy: 0.7917\n",
            "Epoch 32/50\n",
            "6/6 [==============================] - 0s 5ms/step - loss: 0.6041 - accuracy: 0.8014\n",
            "Epoch 33/50\n",
            "6/6 [==============================] - 0s 6ms/step - loss: 0.5934 - accuracy: 0.8236\n",
            "Epoch 34/50\n",
            "6/6 [==============================] - 0s 5ms/step - loss: 0.5565 - accuracy: 0.8361\n",
            "Epoch 35/50\n",
            "6/6 [==============================] - 0s 5ms/step - loss: 0.5694 - accuracy: 0.8306\n",
            "Epoch 36/50\n",
            "6/6 [==============================] - 0s 5ms/step - loss: 0.5627 - accuracy: 0.8208\n",
            "Epoch 37/50\n",
            "6/6 [==============================] - 0s 6ms/step - loss: 0.5233 - accuracy: 0.8347\n",
            "Epoch 38/50\n",
            "6/6 [==============================] - 0s 4ms/step - loss: 0.5129 - accuracy: 0.8444\n",
            "Epoch 39/50\n",
            "6/6 [==============================] - 0s 4ms/step - loss: 0.4948 - accuracy: 0.8597\n",
            "Epoch 40/50\n",
            "6/6 [==============================] - 0s 5ms/step - loss: 0.4655 - accuracy: 0.8694\n",
            "Epoch 41/50\n",
            "6/6 [==============================] - 0s 5ms/step - loss: 0.4675 - accuracy: 0.8722\n",
            "Epoch 42/50\n",
            "6/6 [==============================] - 0s 5ms/step - loss: 0.4651 - accuracy: 0.8569\n",
            "Epoch 43/50\n",
            "6/6 [==============================] - 0s 6ms/step - loss: 0.4499 - accuracy: 0.8694\n",
            "Epoch 44/50\n",
            "6/6 [==============================] - 0s 5ms/step - loss: 0.4445 - accuracy: 0.8694\n",
            "Epoch 45/50\n",
            "6/6 [==============================] - 0s 5ms/step - loss: 0.4446 - accuracy: 0.8625\n",
            "Epoch 46/50\n",
            "6/6 [==============================] - 0s 6ms/step - loss: 0.4241 - accuracy: 0.8806\n",
            "Epoch 47/50\n",
            "6/6 [==============================] - 0s 5ms/step - loss: 0.4063 - accuracy: 0.8875\n",
            "Epoch 48/50\n",
            "6/6 [==============================] - 0s 6ms/step - loss: 0.4247 - accuracy: 0.8792\n",
            "Epoch 49/50\n",
            "6/6 [==============================] - 0s 6ms/step - loss: 0.4152 - accuracy: 0.8750\n",
            "Epoch 50/50\n",
            "6/6 [==============================] - 0s 5ms/step - loss: 0.4247 - accuracy: 0.8667\n",
            "3/3 [==============================] - 0s 4ms/step\n",
            "Epoch 1/50\n",
            "6/6 [==============================] - 1s 5ms/step - loss: 1.4546 - accuracy: 0.2333\n",
            "Epoch 2/50\n",
            "6/6 [==============================] - 0s 5ms/step - loss: 1.3899 - accuracy: 0.2806\n",
            "Epoch 3/50\n",
            "6/6 [==============================] - 0s 5ms/step - loss: 1.3777 - accuracy: 0.2792\n",
            "Epoch 4/50\n",
            "6/6 [==============================] - 0s 5ms/step - loss: 1.3618 - accuracy: 0.3361\n",
            "Epoch 5/50\n",
            "6/6 [==============================] - 0s 5ms/step - loss: 1.3493 - accuracy: 0.3389\n",
            "Epoch 6/50\n",
            "6/6 [==============================] - 0s 6ms/step - loss: 1.3419 - accuracy: 0.3861\n",
            "Epoch 7/50\n",
            "6/6 [==============================] - 0s 5ms/step - loss: 1.3079 - accuracy: 0.4056\n",
            "Epoch 8/50\n",
            "6/6 [==============================] - 0s 5ms/step - loss: 1.3130 - accuracy: 0.4056\n",
            "Epoch 9/50\n",
            "6/6 [==============================] - 0s 8ms/step - loss: 1.2823 - accuracy: 0.4611\n",
            "Epoch 10/50\n",
            "6/6 [==============================] - 0s 5ms/step - loss: 1.2577 - accuracy: 0.4764\n",
            "Epoch 11/50\n",
            "6/6 [==============================] - 0s 6ms/step - loss: 1.2265 - accuracy: 0.5000\n",
            "Epoch 12/50\n",
            "6/6 [==============================] - 0s 6ms/step - loss: 1.1989 - accuracy: 0.5194\n",
            "Epoch 13/50\n",
            "6/6 [==============================] - 0s 5ms/step - loss: 1.1471 - accuracy: 0.5458\n",
            "Epoch 14/50\n",
            "6/6 [==============================] - 0s 5ms/step - loss: 1.1229 - accuracy: 0.5458\n",
            "Epoch 15/50\n",
            "6/6 [==============================] - 0s 6ms/step - loss: 1.0815 - accuracy: 0.5750\n",
            "Epoch 16/50\n",
            "6/6 [==============================] - 0s 5ms/step - loss: 1.0548 - accuracy: 0.5736\n",
            "Epoch 17/50\n",
            "6/6 [==============================] - 0s 5ms/step - loss: 1.0206 - accuracy: 0.5847\n",
            "Epoch 18/50\n",
            "6/6 [==============================] - 0s 8ms/step - loss: 0.9684 - accuracy: 0.6472\n",
            "Epoch 19/50\n",
            "6/6 [==============================] - 0s 5ms/step - loss: 0.9486 - accuracy: 0.6333\n",
            "Epoch 20/50\n",
            "6/6 [==============================] - 0s 7ms/step - loss: 0.9332 - accuracy: 0.6542\n",
            "Epoch 21/50\n",
            "6/6 [==============================] - 0s 5ms/step - loss: 0.9321 - accuracy: 0.6389\n",
            "Epoch 22/50\n",
            "6/6 [==============================] - 0s 5ms/step - loss: 0.8942 - accuracy: 0.6736\n",
            "Epoch 23/50\n",
            "6/6 [==============================] - 0s 6ms/step - loss: 0.8510 - accuracy: 0.6944\n",
            "Epoch 24/50\n",
            "6/6 [==============================] - 0s 5ms/step - loss: 0.8350 - accuracy: 0.7000\n",
            "Epoch 25/50\n",
            "6/6 [==============================] - 0s 8ms/step - loss: 0.8102 - accuracy: 0.7236\n",
            "Epoch 26/50\n",
            "6/6 [==============================] - 0s 5ms/step - loss: 0.7899 - accuracy: 0.7181\n",
            "Epoch 27/50\n",
            "6/6 [==============================] - 0s 7ms/step - loss: 0.7682 - accuracy: 0.7444\n",
            "Epoch 28/50\n",
            "6/6 [==============================] - 0s 5ms/step - loss: 0.7463 - accuracy: 0.7583\n",
            "Epoch 29/50\n",
            "6/6 [==============================] - 0s 6ms/step - loss: 0.7328 - accuracy: 0.7694\n",
            "Epoch 30/50\n",
            "6/6 [==============================] - 0s 6ms/step - loss: 0.7172 - accuracy: 0.7486\n",
            "Epoch 31/50\n",
            "6/6 [==============================] - 0s 6ms/step - loss: 0.6942 - accuracy: 0.7819\n",
            "Epoch 32/50\n",
            "6/6 [==============================] - 0s 8ms/step - loss: 0.6891 - accuracy: 0.7681\n",
            "Epoch 33/50\n",
            "6/6 [==============================] - 0s 6ms/step - loss: 0.6535 - accuracy: 0.7792\n",
            "Epoch 34/50\n",
            "6/6 [==============================] - 0s 6ms/step - loss: 0.6569 - accuracy: 0.7833\n",
            "Epoch 35/50\n",
            "6/6 [==============================] - 0s 5ms/step - loss: 0.6226 - accuracy: 0.7903\n",
            "Epoch 36/50\n",
            "6/6 [==============================] - 0s 4ms/step - loss: 0.6059 - accuracy: 0.8083\n",
            "Epoch 37/50\n",
            "6/6 [==============================] - 0s 5ms/step - loss: 0.5855 - accuracy: 0.8111\n",
            "Epoch 38/50\n",
            "6/6 [==============================] - 0s 5ms/step - loss: 0.5850 - accuracy: 0.8319\n",
            "Epoch 39/50\n",
            "6/6 [==============================] - 0s 5ms/step - loss: 0.5673 - accuracy: 0.8319\n",
            "Epoch 40/50\n",
            "6/6 [==============================] - 0s 6ms/step - loss: 0.5450 - accuracy: 0.8417\n",
            "Epoch 41/50\n",
            "6/6 [==============================] - 0s 5ms/step - loss: 0.5326 - accuracy: 0.8472\n",
            "Epoch 42/50\n",
            "6/6 [==============================] - 0s 5ms/step - loss: 0.5278 - accuracy: 0.8403\n",
            "Epoch 43/50\n",
            "6/6 [==============================] - 0s 5ms/step - loss: 0.5264 - accuracy: 0.8403\n",
            "Epoch 44/50\n",
            "6/6 [==============================] - 0s 6ms/step - loss: 0.4987 - accuracy: 0.8528\n",
            "Epoch 45/50\n",
            "6/6 [==============================] - 0s 6ms/step - loss: 0.4970 - accuracy: 0.8389\n",
            "Epoch 46/50\n",
            "6/6 [==============================] - 0s 5ms/step - loss: 0.4738 - accuracy: 0.8597\n",
            "Epoch 47/50\n",
            "6/6 [==============================] - 0s 5ms/step - loss: 0.4765 - accuracy: 0.8514\n",
            "Epoch 48/50\n",
            "6/6 [==============================] - 0s 5ms/step - loss: 0.4707 - accuracy: 0.8583\n",
            "Epoch 49/50\n",
            "6/6 [==============================] - 0s 5ms/step - loss: 0.4605 - accuracy: 0.8500\n",
            "Epoch 50/50\n",
            "6/6 [==============================] - 0s 4ms/step - loss: 0.4324 - accuracy: 0.8667\n",
            "3/3 [==============================] - 0s 4ms/step\n",
            "Epoch 1/50\n",
            "6/6 [==============================] - 1s 5ms/step - loss: 1.3893 - accuracy: 0.2986\n",
            "Epoch 2/50\n",
            "6/6 [==============================] - 0s 5ms/step - loss: 1.3740 - accuracy: 0.3278\n",
            "Epoch 3/50\n",
            "6/6 [==============================] - 0s 7ms/step - loss: 1.3621 - accuracy: 0.3417\n",
            "Epoch 4/50\n",
            "6/6 [==============================] - 0s 6ms/step - loss: 1.3557 - accuracy: 0.3403\n",
            "Epoch 5/50\n",
            "6/6 [==============================] - 0s 6ms/step - loss: 1.3298 - accuracy: 0.3931\n",
            "Epoch 6/50\n",
            "6/6 [==============================] - 0s 5ms/step - loss: 1.3027 - accuracy: 0.4167\n",
            "Epoch 7/50\n",
            "6/6 [==============================] - 0s 6ms/step - loss: 1.2963 - accuracy: 0.4333\n",
            "Epoch 8/50\n",
            "6/6 [==============================] - 0s 6ms/step - loss: 1.2661 - accuracy: 0.4569\n",
            "Epoch 9/50\n",
            "6/6 [==============================] - 0s 5ms/step - loss: 1.2316 - accuracy: 0.4750\n",
            "Epoch 10/50\n",
            "6/6 [==============================] - 0s 5ms/step - loss: 1.1970 - accuracy: 0.5028\n",
            "Epoch 11/50\n",
            "6/6 [==============================] - 0s 5ms/step - loss: 1.1586 - accuracy: 0.5194\n",
            "Epoch 12/50\n",
            "6/6 [==============================] - 0s 6ms/step - loss: 1.1096 - accuracy: 0.5403\n",
            "Epoch 13/50\n",
            "6/6 [==============================] - 0s 5ms/step - loss: 1.0769 - accuracy: 0.5528\n",
            "Epoch 14/50\n",
            "6/6 [==============================] - 0s 5ms/step - loss: 1.0492 - accuracy: 0.5514\n",
            "Epoch 15/50\n",
            "6/6 [==============================] - 0s 6ms/step - loss: 1.0057 - accuracy: 0.5708\n",
            "Epoch 16/50\n",
            "6/6 [==============================] - 0s 5ms/step - loss: 0.9788 - accuracy: 0.5875\n",
            "Epoch 17/50\n",
            "6/6 [==============================] - 0s 5ms/step - loss: 0.9433 - accuracy: 0.6250\n",
            "Epoch 18/50\n",
            "6/6 [==============================] - 0s 5ms/step - loss: 0.9280 - accuracy: 0.6111\n",
            "Epoch 19/50\n",
            "6/6 [==============================] - 0s 7ms/step - loss: 0.8893 - accuracy: 0.6569\n",
            "Epoch 20/50\n",
            "6/6 [==============================] - 0s 5ms/step - loss: 0.8686 - accuracy: 0.6375\n",
            "Epoch 21/50\n",
            "6/6 [==============================] - 0s 5ms/step - loss: 0.8562 - accuracy: 0.6528\n",
            "Epoch 22/50\n",
            "6/6 [==============================] - 0s 5ms/step - loss: 0.8323 - accuracy: 0.6778\n",
            "Epoch 23/50\n",
            "6/6 [==============================] - 0s 5ms/step - loss: 0.8121 - accuracy: 0.6889\n",
            "Epoch 24/50\n",
            "6/6 [==============================] - 0s 5ms/step - loss: 0.8029 - accuracy: 0.6889\n",
            "Epoch 25/50\n",
            "6/6 [==============================] - 0s 6ms/step - loss: 0.7930 - accuracy: 0.6875\n",
            "Epoch 26/50\n",
            "6/6 [==============================] - 0s 5ms/step - loss: 0.7641 - accuracy: 0.7167\n",
            "Epoch 27/50\n",
            "6/6 [==============================] - 0s 5ms/step - loss: 0.7365 - accuracy: 0.7694\n",
            "Epoch 28/50\n",
            "6/6 [==============================] - 0s 4ms/step - loss: 0.7281 - accuracy: 0.7597\n",
            "Epoch 29/50\n",
            "6/6 [==============================] - 0s 5ms/step - loss: 0.6943 - accuracy: 0.7917\n",
            "Epoch 30/50\n",
            "6/6 [==============================] - 0s 5ms/step - loss: 0.7109 - accuracy: 0.7611\n",
            "Epoch 31/50\n",
            "6/6 [==============================] - 0s 6ms/step - loss: 0.6649 - accuracy: 0.7889\n",
            "Epoch 32/50\n",
            "6/6 [==============================] - 0s 5ms/step - loss: 0.6537 - accuracy: 0.7889\n",
            "Epoch 33/50\n",
            "6/6 [==============================] - 0s 5ms/step - loss: 0.6299 - accuracy: 0.7833\n",
            "Epoch 34/50\n",
            "6/6 [==============================] - 0s 5ms/step - loss: 0.6190 - accuracy: 0.8000\n",
            "Epoch 35/50\n",
            "6/6 [==============================] - 0s 5ms/step - loss: 0.6094 - accuracy: 0.8000\n",
            "Epoch 36/50\n",
            "6/6 [==============================] - 0s 7ms/step - loss: 0.5956 - accuracy: 0.8181\n",
            "Epoch 37/50\n",
            "6/6 [==============================] - 0s 5ms/step - loss: 0.5649 - accuracy: 0.8444\n",
            "Epoch 38/50\n",
            "6/6 [==============================] - 0s 5ms/step - loss: 0.5586 - accuracy: 0.8375\n",
            "Epoch 39/50\n",
            "6/6 [==============================] - 0s 7ms/step - loss: 0.5375 - accuracy: 0.8361\n",
            "Epoch 40/50\n",
            "6/6 [==============================] - 0s 5ms/step - loss: 0.5434 - accuracy: 0.8375\n",
            "Epoch 41/50\n",
            "6/6 [==============================] - 0s 5ms/step - loss: 0.5118 - accuracy: 0.8444\n",
            "Epoch 42/50\n",
            "6/6 [==============================] - 0s 7ms/step - loss: 0.5059 - accuracy: 0.8417\n",
            "Epoch 43/50\n",
            "6/6 [==============================] - 0s 6ms/step - loss: 0.4893 - accuracy: 0.8472\n",
            "Epoch 44/50\n",
            "6/6 [==============================] - 0s 8ms/step - loss: 0.4751 - accuracy: 0.8667\n",
            "Epoch 45/50\n",
            "6/6 [==============================] - 0s 7ms/step - loss: 0.4683 - accuracy: 0.8681\n",
            "Epoch 46/50\n",
            "6/6 [==============================] - 0s 6ms/step - loss: 0.4686 - accuracy: 0.8611\n",
            "Epoch 47/50\n",
            "6/6 [==============================] - 0s 5ms/step - loss: 0.4370 - accuracy: 0.8722\n",
            "Epoch 48/50\n",
            "6/6 [==============================] - 0s 5ms/step - loss: 0.4506 - accuracy: 0.8500\n",
            "Epoch 49/50\n",
            "6/6 [==============================] - 0s 6ms/step - loss: 0.4211 - accuracy: 0.8778\n",
            "Epoch 50/50\n",
            "6/6 [==============================] - 0s 5ms/step - loss: 0.4074 - accuracy: 0.8681\n",
            "3/3 [==============================] - 0s 5ms/step\n",
            "Epoch 1/50\n",
            "6/6 [==============================] - 1s 8ms/step - loss: 1.4273 - accuracy: 0.2417\n",
            "Epoch 2/50\n",
            "6/6 [==============================] - 0s 7ms/step - loss: 1.3967 - accuracy: 0.2597\n",
            "Epoch 3/50\n",
            "6/6 [==============================] - 0s 7ms/step - loss: 1.3825 - accuracy: 0.2972\n",
            "Epoch 4/50\n",
            "6/6 [==============================] - 0s 7ms/step - loss: 1.3624 - accuracy: 0.3389\n",
            "Epoch 5/50\n",
            "6/6 [==============================] - 0s 7ms/step - loss: 1.3432 - accuracy: 0.3486\n",
            "Epoch 6/50\n",
            "6/6 [==============================] - 0s 7ms/step - loss: 1.3353 - accuracy: 0.3458\n",
            "Epoch 7/50\n",
            "6/6 [==============================] - 0s 7ms/step - loss: 1.3245 - accuracy: 0.4014\n",
            "Epoch 8/50\n",
            "6/6 [==============================] - 0s 7ms/step - loss: 1.2946 - accuracy: 0.4111\n",
            "Epoch 9/50\n",
            "6/6 [==============================] - 0s 6ms/step - loss: 1.2747 - accuracy: 0.4472\n",
            "Epoch 10/50\n",
            "6/6 [==============================] - 0s 9ms/step - loss: 1.2425 - accuracy: 0.4986\n",
            "Epoch 11/50\n",
            "6/6 [==============================] - 0s 8ms/step - loss: 1.2333 - accuracy: 0.4667\n",
            "Epoch 12/50\n",
            "6/6 [==============================] - 0s 7ms/step - loss: 1.1812 - accuracy: 0.5444\n",
            "Epoch 13/50\n",
            "6/6 [==============================] - 0s 9ms/step - loss: 1.1417 - accuracy: 0.5528\n",
            "Epoch 14/50\n",
            "6/6 [==============================] - 0s 8ms/step - loss: 1.1240 - accuracy: 0.5611\n",
            "Epoch 15/50\n",
            "6/6 [==============================] - 0s 8ms/step - loss: 1.0986 - accuracy: 0.5556\n",
            "Epoch 16/50\n",
            "6/6 [==============================] - 0s 9ms/step - loss: 1.0463 - accuracy: 0.5903\n",
            "Epoch 17/50\n",
            "6/6 [==============================] - 0s 8ms/step - loss: 1.0250 - accuracy: 0.5986\n",
            "Epoch 18/50\n",
            "6/6 [==============================] - 0s 9ms/step - loss: 0.9890 - accuracy: 0.6167\n",
            "Epoch 19/50\n",
            "6/6 [==============================] - 0s 8ms/step - loss: 0.9488 - accuracy: 0.6431\n",
            "Epoch 20/50\n",
            "6/6 [==============================] - 0s 9ms/step - loss: 0.9369 - accuracy: 0.6597\n",
            "Epoch 21/50\n",
            "6/6 [==============================] - 0s 9ms/step - loss: 0.9132 - accuracy: 0.6694\n",
            "Epoch 22/50\n",
            "6/6 [==============================] - 0s 7ms/step - loss: 0.8802 - accuracy: 0.6792\n",
            "Epoch 23/50\n",
            "6/6 [==============================] - 0s 7ms/step - loss: 0.8611 - accuracy: 0.6903\n",
            "Epoch 24/50\n",
            "6/6 [==============================] - 0s 7ms/step - loss: 0.8142 - accuracy: 0.7319\n",
            "Epoch 25/50\n",
            "6/6 [==============================] - 0s 7ms/step - loss: 0.8063 - accuracy: 0.7167\n",
            "Epoch 26/50\n",
            "6/6 [==============================] - 0s 8ms/step - loss: 0.7833 - accuracy: 0.7431\n",
            "Epoch 27/50\n",
            "6/6 [==============================] - 0s 7ms/step - loss: 0.7535 - accuracy: 0.7694\n",
            "Epoch 28/50\n",
            "6/6 [==============================] - 0s 6ms/step - loss: 0.7603 - accuracy: 0.7403\n",
            "Epoch 29/50\n",
            "6/6 [==============================] - 0s 6ms/step - loss: 0.7234 - accuracy: 0.7681\n",
            "Epoch 30/50\n",
            "6/6 [==============================] - 0s 7ms/step - loss: 0.6864 - accuracy: 0.7972\n",
            "Epoch 31/50\n",
            "6/6 [==============================] - 0s 7ms/step - loss: 0.6784 - accuracy: 0.7819\n",
            "Epoch 32/50\n",
            "6/6 [==============================] - 0s 7ms/step - loss: 0.6698 - accuracy: 0.7875\n",
            "Epoch 33/50\n",
            "6/6 [==============================] - 0s 7ms/step - loss: 0.6500 - accuracy: 0.7792\n",
            "Epoch 34/50\n",
            "6/6 [==============================] - 0s 8ms/step - loss: 0.6125 - accuracy: 0.8014\n",
            "Epoch 35/50\n",
            "6/6 [==============================] - 0s 8ms/step - loss: 0.6055 - accuracy: 0.8056\n",
            "Epoch 36/50\n",
            "6/6 [==============================] - 0s 8ms/step - loss: 0.6067 - accuracy: 0.7986\n",
            "Epoch 37/50\n",
            "6/6 [==============================] - 0s 7ms/step - loss: 0.5848 - accuracy: 0.8139\n",
            "Epoch 38/50\n",
            "6/6 [==============================] - 0s 6ms/step - loss: 0.5504 - accuracy: 0.8361\n",
            "Epoch 39/50\n",
            "6/6 [==============================] - 0s 5ms/step - loss: 0.5472 - accuracy: 0.8347\n",
            "Epoch 40/50\n",
            "6/6 [==============================] - 0s 7ms/step - loss: 0.5367 - accuracy: 0.8306\n",
            "Epoch 41/50\n",
            "6/6 [==============================] - 0s 6ms/step - loss: 0.5084 - accuracy: 0.8681\n",
            "Epoch 42/50\n",
            "6/6 [==============================] - 0s 5ms/step - loss: 0.5186 - accuracy: 0.8431\n",
            "Epoch 43/50\n",
            "6/6 [==============================] - 0s 5ms/step - loss: 0.5102 - accuracy: 0.8556\n",
            "Epoch 44/50\n",
            "6/6 [==============================] - 0s 6ms/step - loss: 0.5158 - accuracy: 0.8542\n",
            "Epoch 45/50\n",
            "6/6 [==============================] - 0s 5ms/step - loss: 0.4851 - accuracy: 0.8528\n",
            "Epoch 46/50\n",
            "6/6 [==============================] - 0s 6ms/step - loss: 0.4569 - accuracy: 0.8583\n",
            "Epoch 47/50\n",
            "6/6 [==============================] - 0s 6ms/step - loss: 0.4367 - accuracy: 0.8639\n",
            "Epoch 48/50\n",
            "6/6 [==============================] - 0s 6ms/step - loss: 0.4476 - accuracy: 0.8750\n",
            "Epoch 49/50\n",
            "6/6 [==============================] - 0s 5ms/step - loss: 0.4358 - accuracy: 0.8639\n",
            "Epoch 50/50\n",
            "6/6 [==============================] - 0s 6ms/step - loss: 0.4437 - accuracy: 0.8778\n",
            "3/3 [==============================] - 0s 4ms/step\n",
            "Epoch 1/50\n",
            "6/6 [==============================] - 1s 6ms/step - loss: 1.4048 - accuracy: 0.2375\n",
            "Epoch 2/50\n",
            "6/6 [==============================] - 0s 5ms/step - loss: 1.3833 - accuracy: 0.2986\n",
            "Epoch 3/50\n",
            "6/6 [==============================] - 0s 6ms/step - loss: 1.3599 - accuracy: 0.3347\n",
            "Epoch 4/50\n",
            "6/6 [==============================] - 0s 5ms/step - loss: 1.3514 - accuracy: 0.3417\n",
            "Epoch 5/50\n",
            "6/6 [==============================] - 0s 5ms/step - loss: 1.3417 - accuracy: 0.3667\n",
            "Epoch 6/50\n",
            "6/6 [==============================] - 0s 7ms/step - loss: 1.3245 - accuracy: 0.3944\n",
            "Epoch 7/50\n",
            "6/6 [==============================] - 0s 5ms/step - loss: 1.3087 - accuracy: 0.4056\n",
            "Epoch 8/50\n",
            "6/6 [==============================] - 0s 5ms/step - loss: 1.2763 - accuracy: 0.4611\n",
            "Epoch 9/50\n",
            "6/6 [==============================] - 0s 5ms/step - loss: 1.2485 - accuracy: 0.4708\n",
            "Epoch 10/50\n",
            "6/6 [==============================] - 0s 5ms/step - loss: 1.2234 - accuracy: 0.5042\n",
            "Epoch 11/50\n",
            "6/6 [==============================] - 0s 5ms/step - loss: 1.1814 - accuracy: 0.5264\n",
            "Epoch 12/50\n",
            "6/6 [==============================] - 0s 5ms/step - loss: 1.1355 - accuracy: 0.5625\n",
            "Epoch 13/50\n",
            "6/6 [==============================] - 0s 5ms/step - loss: 1.0974 - accuracy: 0.5792\n",
            "Epoch 14/50\n",
            "6/6 [==============================] - 0s 5ms/step - loss: 1.0592 - accuracy: 0.5625\n",
            "Epoch 15/50\n",
            "6/6 [==============================] - 0s 5ms/step - loss: 1.0317 - accuracy: 0.5944\n",
            "Epoch 16/50\n",
            "6/6 [==============================] - 0s 5ms/step - loss: 0.9872 - accuracy: 0.6056\n",
            "Epoch 17/50\n",
            "6/6 [==============================] - 0s 6ms/step - loss: 0.9557 - accuracy: 0.6181\n",
            "Epoch 18/50\n",
            "6/6 [==============================] - 0s 6ms/step - loss: 0.9124 - accuracy: 0.6500\n",
            "Epoch 19/50\n",
            "6/6 [==============================] - 0s 6ms/step - loss: 0.8928 - accuracy: 0.6431\n",
            "Epoch 20/50\n",
            "6/6 [==============================] - 0s 6ms/step - loss: 0.8600 - accuracy: 0.6431\n",
            "Epoch 21/50\n",
            "6/6 [==============================] - 0s 5ms/step - loss: 0.8443 - accuracy: 0.6694\n",
            "Epoch 22/50\n",
            "6/6 [==============================] - 0s 7ms/step - loss: 0.8120 - accuracy: 0.6833\n",
            "Epoch 23/50\n",
            "6/6 [==============================] - 0s 5ms/step - loss: 0.8053 - accuracy: 0.6833\n",
            "Epoch 24/50\n",
            "6/6 [==============================] - 0s 5ms/step - loss: 0.7641 - accuracy: 0.7125\n",
            "Epoch 25/50\n",
            "6/6 [==============================] - 0s 7ms/step - loss: 0.7552 - accuracy: 0.7000\n",
            "Epoch 26/50\n",
            "6/6 [==============================] - 0s 5ms/step - loss: 0.7317 - accuracy: 0.7208\n",
            "Epoch 27/50\n",
            "6/6 [==============================] - 0s 5ms/step - loss: 0.7093 - accuracy: 0.7514\n",
            "Epoch 28/50\n",
            "6/6 [==============================] - 0s 6ms/step - loss: 0.7063 - accuracy: 0.7514\n",
            "Epoch 29/50\n",
            "6/6 [==============================] - 0s 6ms/step - loss: 0.6900 - accuracy: 0.7819\n",
            "Epoch 30/50\n",
            "6/6 [==============================] - 0s 5ms/step - loss: 0.7036 - accuracy: 0.7361\n",
            "Epoch 31/50\n",
            "6/6 [==============================] - 0s 6ms/step - loss: 0.6696 - accuracy: 0.7708\n",
            "Epoch 32/50\n",
            "6/6 [==============================] - 0s 8ms/step - loss: 0.6613 - accuracy: 0.7722\n",
            "Epoch 33/50\n",
            "6/6 [==============================] - 0s 6ms/step - loss: 0.6324 - accuracy: 0.7653\n",
            "Epoch 34/50\n",
            "6/6 [==============================] - 0s 5ms/step - loss: 0.6245 - accuracy: 0.7917\n",
            "Epoch 35/50\n",
            "6/6 [==============================] - 0s 6ms/step - loss: 0.6222 - accuracy: 0.7778\n",
            "Epoch 36/50\n",
            "6/6 [==============================] - 0s 5ms/step - loss: 0.6039 - accuracy: 0.7931\n",
            "Epoch 37/50\n",
            "6/6 [==============================] - 0s 5ms/step - loss: 0.5614 - accuracy: 0.8181\n",
            "Epoch 38/50\n",
            "6/6 [==============================] - 0s 5ms/step - loss: 0.5391 - accuracy: 0.8389\n",
            "Epoch 39/50\n",
            "6/6 [==============================] - 0s 5ms/step - loss: 0.5640 - accuracy: 0.8125\n",
            "Epoch 40/50\n",
            "6/6 [==============================] - 0s 5ms/step - loss: 0.5483 - accuracy: 0.8306\n",
            "Epoch 41/50\n",
            "6/6 [==============================] - 0s 5ms/step - loss: 0.5412 - accuracy: 0.8236\n",
            "Epoch 42/50\n",
            "6/6 [==============================] - 0s 5ms/step - loss: 0.5247 - accuracy: 0.8194\n",
            "Epoch 43/50\n",
            "6/6 [==============================] - 0s 5ms/step - loss: 0.5072 - accuracy: 0.8375\n",
            "Epoch 44/50\n",
            "6/6 [==============================] - 0s 6ms/step - loss: 0.5122 - accuracy: 0.8083\n",
            "Epoch 45/50\n",
            "6/6 [==============================] - 0s 5ms/step - loss: 0.4935 - accuracy: 0.8514\n",
            "Epoch 46/50\n",
            "6/6 [==============================] - 0s 5ms/step - loss: 0.4751 - accuracy: 0.8444\n",
            "Epoch 47/50\n",
            "6/6 [==============================] - 0s 5ms/step - loss: 0.4846 - accuracy: 0.8528\n",
            "Epoch 48/50\n",
            "6/6 [==============================] - 0s 5ms/step - loss: 0.4995 - accuracy: 0.8403\n",
            "Epoch 49/50\n",
            "6/6 [==============================] - 0s 5ms/step - loss: 0.4647 - accuracy: 0.8639\n",
            "Epoch 50/50\n",
            "6/6 [==============================] - 0s 5ms/step - loss: 0.4597 - accuracy: 0.8625\n",
            "3/3 [==============================] - 0s 5ms/step\n",
            "Epoch 1/50\n",
            "7/7 [==============================] - 1s 5ms/step - loss: 1.3948 - accuracy: 0.2637\n",
            "Epoch 2/50\n",
            "7/7 [==============================] - 0s 5ms/step - loss: 1.3715 - accuracy: 0.3250\n",
            "Epoch 3/50\n",
            "7/7 [==============================] - 0s 6ms/step - loss: 1.3592 - accuracy: 0.3438\n",
            "Epoch 4/50\n",
            "7/7 [==============================] - 0s 6ms/step - loss: 1.3509 - accuracy: 0.3550\n",
            "Epoch 5/50\n",
            "7/7 [==============================] - 0s 5ms/step - loss: 1.3370 - accuracy: 0.3600\n",
            "Epoch 6/50\n",
            "7/7 [==============================] - 0s 5ms/step - loss: 1.3136 - accuracy: 0.3950\n",
            "Epoch 7/50\n",
            "7/7 [==============================] - 0s 5ms/step - loss: 1.2890 - accuracy: 0.4363\n",
            "Epoch 8/50\n",
            "7/7 [==============================] - 0s 5ms/step - loss: 1.2543 - accuracy: 0.4725\n",
            "Epoch 9/50\n",
            "7/7 [==============================] - 0s 5ms/step - loss: 1.2149 - accuracy: 0.4988\n",
            "Epoch 10/50\n",
            "7/7 [==============================] - 0s 6ms/step - loss: 1.1759 - accuracy: 0.5300\n",
            "Epoch 11/50\n",
            "7/7 [==============================] - 0s 5ms/step - loss: 1.1286 - accuracy: 0.5550\n",
            "Epoch 12/50\n",
            "7/7 [==============================] - 0s 5ms/step - loss: 1.1057 - accuracy: 0.5362\n",
            "Epoch 13/50\n",
            "7/7 [==============================] - 0s 4ms/step - loss: 1.0520 - accuracy: 0.5700\n",
            "Epoch 14/50\n",
            "7/7 [==============================] - 0s 5ms/step - loss: 1.0249 - accuracy: 0.5987\n",
            "Epoch 15/50\n",
            "7/7 [==============================] - 0s 5ms/step - loss: 0.9805 - accuracy: 0.6200\n",
            "Epoch 16/50\n",
            "7/7 [==============================] - 0s 5ms/step - loss: 0.9485 - accuracy: 0.6400\n",
            "Epoch 17/50\n",
            "7/7 [==============================] - 0s 5ms/step - loss: 0.9271 - accuracy: 0.6363\n",
            "Epoch 18/50\n",
            "7/7 [==============================] - 0s 5ms/step - loss: 0.8931 - accuracy: 0.6450\n",
            "Epoch 19/50\n",
            "7/7 [==============================] - 0s 5ms/step - loss: 0.8731 - accuracy: 0.6625\n",
            "Epoch 20/50\n",
            "7/7 [==============================] - 0s 4ms/step - loss: 0.8479 - accuracy: 0.6700\n",
            "Epoch 21/50\n",
            "7/7 [==============================] - 0s 5ms/step - loss: 0.8264 - accuracy: 0.6938\n",
            "Epoch 22/50\n",
            "7/7 [==============================] - 0s 5ms/step - loss: 0.7873 - accuracy: 0.7262\n",
            "Epoch 23/50\n",
            "7/7 [==============================] - 0s 5ms/step - loss: 0.7826 - accuracy: 0.7375\n",
            "Epoch 24/50\n",
            "7/7 [==============================] - 0s 5ms/step - loss: 0.7484 - accuracy: 0.7312\n",
            "Epoch 25/50\n",
            "7/7 [==============================] - 0s 5ms/step - loss: 0.7415 - accuracy: 0.7262\n",
            "Epoch 26/50\n",
            "7/7 [==============================] - 0s 5ms/step - loss: 0.7219 - accuracy: 0.7538\n",
            "Epoch 27/50\n",
            "7/7 [==============================] - 0s 6ms/step - loss: 0.7066 - accuracy: 0.7487\n",
            "Epoch 28/50\n",
            "7/7 [==============================] - 0s 5ms/step - loss: 0.6576 - accuracy: 0.7875\n",
            "Epoch 29/50\n",
            "7/7 [==============================] - 0s 5ms/step - loss: 0.6621 - accuracy: 0.7825\n",
            "Epoch 30/50\n",
            "7/7 [==============================] - 0s 5ms/step - loss: 0.6346 - accuracy: 0.7837\n",
            "Epoch 31/50\n",
            "7/7 [==============================] - 0s 5ms/step - loss: 0.6381 - accuracy: 0.7850\n",
            "Epoch 32/50\n",
            "7/7 [==============================] - 0s 5ms/step - loss: 0.6359 - accuracy: 0.7925\n",
            "Epoch 33/50\n",
            "7/7 [==============================] - 0s 6ms/step - loss: 0.5767 - accuracy: 0.8163\n",
            "Epoch 34/50\n",
            "7/7 [==============================] - 0s 5ms/step - loss: 0.5709 - accuracy: 0.8000\n",
            "Epoch 35/50\n",
            "7/7 [==============================] - 0s 5ms/step - loss: 0.5841 - accuracy: 0.8175\n",
            "Epoch 36/50\n",
            "7/7 [==============================] - 0s 5ms/step - loss: 0.5656 - accuracy: 0.8263\n",
            "Epoch 37/50\n",
            "7/7 [==============================] - 0s 5ms/step - loss: 0.5670 - accuracy: 0.8363\n",
            "Epoch 38/50\n",
            "7/7 [==============================] - 0s 5ms/step - loss: 0.5072 - accuracy: 0.8487\n",
            "Epoch 39/50\n",
            "7/7 [==============================] - 0s 5ms/step - loss: 0.5061 - accuracy: 0.8363\n",
            "Epoch 40/50\n",
            "7/7 [==============================] - 0s 5ms/step - loss: 0.5135 - accuracy: 0.8438\n",
            "Epoch 41/50\n",
            "7/7 [==============================] - 0s 5ms/step - loss: 0.4649 - accuracy: 0.8725\n",
            "Epoch 42/50\n",
            "7/7 [==============================] - 0s 7ms/step - loss: 0.5027 - accuracy: 0.8400\n",
            "Epoch 43/50\n",
            "7/7 [==============================] - 0s 5ms/step - loss: 0.4739 - accuracy: 0.8388\n",
            "Epoch 44/50\n",
            "7/7 [==============================] - 0s 5ms/step - loss: 0.4541 - accuracy: 0.8637\n",
            "Epoch 45/50\n",
            "7/7 [==============================] - 0s 6ms/step - loss: 0.4415 - accuracy: 0.8625\n",
            "Epoch 46/50\n",
            "7/7 [==============================] - 0s 5ms/step - loss: 0.4409 - accuracy: 0.8737\n",
            "Epoch 47/50\n",
            "7/7 [==============================] - 0s 5ms/step - loss: 0.4230 - accuracy: 0.8662\n",
            "Epoch 48/50\n",
            "7/7 [==============================] - 0s 6ms/step - loss: 0.4234 - accuracy: 0.8750\n",
            "Epoch 49/50\n",
            "7/7 [==============================] - 0s 6ms/step - loss: 0.4238 - accuracy: 0.8700\n",
            "Epoch 50/50\n",
            "7/7 [==============================] - 0s 6ms/step - loss: 0.3805 - accuracy: 0.8938\n",
            "Accuracy: 84.50\n"
          ]
        }
      ]
    },
    {
      "cell_type": "code",
      "source": [
        "from sklearn.metrics import classification_report\n",
        "report = classification_report(y_test, y_pred1)\n",
        "print(report)"
      ],
      "metadata": {
        "colab": {
          "base_uri": "https://localhost:8080/"
        },
        "id": "PqiXimvvc2JZ",
        "outputId": "28f59508-6f4b-480c-d1bb-7067db857144"
      },
      "execution_count": 19,
      "outputs": [
        {
          "output_type": "stream",
          "name": "stdout",
          "text": [
            "              precision    recall  f1-score   support\n",
            "\n",
            "           0       0.89      0.91      0.90        65\n",
            "           1       0.85      0.87      0.86        54\n",
            "           2       0.92      0.79      0.85        43\n",
            "           3       0.81      0.89      0.85        38\n",
            "\n",
            "    accuracy                           0.87       200\n",
            "   macro avg       0.87      0.87      0.87       200\n",
            "weighted avg       0.87      0.87      0.87       200\n",
            "\n"
          ]
        }
      ]
    },
    {
      "cell_type": "code",
      "source": [
        "import seaborn as sns\n",
        "import matplotlib.pyplot as plt\n",
        "from sklearn.metrics import confusion_matrix\n",
        "\n",
        "cm = confusion_matrix(y_test, y_pred1)\n",
        "class_labels = ['happy', 'sad', 'relaxed', 'angry']\n",
        "sns.heatmap(cm, annot=True, cmap='Blues', fmt='d', xticklabels=class_labels, yticklabels=class_labels)\n",
        "\n",
        "# Set labels, title, and ticks\n",
        "plt.xlabel('Predicted')\n",
        "plt.ylabel('True')\n",
        "plt.title('Confusion Matrix')\n",
        "plt.xticks(np.arange(len(class_labels)) + 0.5, class_labels)\n",
        "plt.yticks(np.arange(len(class_labels)) + 0.5, class_labels)\n",
        "plt.show()"
      ],
      "metadata": {
        "colab": {
          "base_uri": "https://localhost:8080/",
          "height": 472
        },
        "id": "1BOhckfCc371",
        "outputId": "83263435-ab1f-416c-c2ba-bf0a0caaf11d"
      },
      "execution_count": 20,
      "outputs": [
        {
          "output_type": "display_data",
          "data": {
            "text/plain": [
              "<Figure size 640x480 with 2 Axes>"
            ],
            "image/png": "[encoded data removed]"
          },
          "metadata": {}
        }
      ]
    },
    {
      "cell_type": "code",
      "source": [
        "# Plot the model architecture\n",
        "keras.utils.plot_model(classifier, to_file='ann_structure.png', show_shapes=True)\n",
        "\n",
        "# Display the image of the model architecture\n",
        "img = plt.imread('ann_structure.png')\n",
        "plt.imshow(img)\n",
        "plt.axis('off')\n",
        "plt.show()"
      ],
      "metadata": {
        "colab": {
          "base_uri": "https://localhost:8080/",
          "height": 406
        },
        "id": "0NTHGA_ReePv",
        "outputId": "cd517700-904d-47cd-d04d-8168a3ad476f"
      },
      "execution_count": 22,
      "outputs": [
        {
          "output_type": "display_data",
          "data": {
            "text/plain": [
              "<Figure size 640x480 with 1 Axes>"
            ],
            "image/png": "[encoded data removed]"
          },
          "metadata": {}
        }
      ]
    },
    {
      "cell_type": "markdown",
      "source": [
        "### SVM"
      ],
      "metadata": {
        "id": "hwCoYO-ntVvr"
      }
    },
    {
      "cell_type": "code",
      "source": [
        "from sklearn.model_selection import train_test_split, GridSearchCV\n",
        "from sklearn.metrics import f1_score, precision_score, recall_score\n",
        "from sklearn.svm import SVC\n",
        "from sklearn.metrics import confusion_matrix, accuracy_score"
      ],
      "metadata": {
        "id": "GXOgGICmuu8s"
      },
      "execution_count": 32,
      "outputs": []
    },
    {
      "cell_type": "code",
      "source": [
        "X_train, X_test, y_train, y_test = train_test_split(X_vect, y, test_size=0.2, random_state=42)"
      ],
      "metadata": {
        "id": "nfuyi8tgtX3F"
      },
      "execution_count": 24,
      "outputs": []
    },
    {
      "cell_type": "code",
      "source": [
        "# Hyperparameter optimization with GridSearchCV\n",
        "param_grid = {'C': [0.1, 1, 10, 100, 200, 300], 'gamma': [1, 0.1, 0.01, 0.001, 0.0001], 'kernel': ['rbf']} \n",
        "grid = GridSearchCV(SVC(), param_grid, refit=True, verbose=2)\n",
        "grid.fit(X_train, y_train)"
      ],
      "metadata": {
        "colab": {
          "base_uri": "https://localhost:8080/",
          "height": 1000
        },
        "id": "pT8ufqW7uWvF",
        "outputId": "f3b39316-bd4d-4c97-94c8-6afb10b23ca0"
      },
      "execution_count": 28,
      "outputs": [
        {
          "output_type": "stream",
          "name": "stdout",
          "text": [
            "Fitting 5 folds for each of 30 candidates, totalling 150 fits\n",
            "[CV] END .........................C=0.1, gamma=1, kernel=rbf; total time=   0.5s\n",
            "[CV] END .........................C=0.1, gamma=1, kernel=rbf; total time=   0.4s\n",
            "[CV] END .........................C=0.1, gamma=1, kernel=rbf; total time=   0.2s\n",
            "[CV] END .........................C=0.1, gamma=1, kernel=rbf; total time=   0.2s\n",
            "[CV] END .........................C=0.1, gamma=1, kernel=rbf; total time=   0.2s\n",
            "[CV] END .......................C=0.1, gamma=0.1, kernel=rbf; total time=   0.2s\n",
            "[CV] END .......................C=0.1, gamma=0.1, kernel=rbf; total time=   0.2s\n",
            "[CV] END .......................C=0.1, gamma=0.1, kernel=rbf; total time=   0.2s\n",
            "[CV] END .......................C=0.1, gamma=0.1, kernel=rbf; total time=   0.2s\n",
            "[CV] END .......................C=0.1, gamma=0.1, kernel=rbf; total time=   0.2s\n",
            "[CV] END ......................C=0.1, gamma=0.01, kernel=rbf; total time=   0.4s\n",
            "[CV] END ......................C=0.1, gamma=0.01, kernel=rbf; total time=   0.5s\n",
            "[CV] END ......................C=0.1, gamma=0.01, kernel=rbf; total time=   0.2s\n",
            "[CV] END ......................C=0.1, gamma=0.01, kernel=rbf; total time=   0.3s\n",
            "[CV] END ......................C=0.1, gamma=0.01, kernel=rbf; total time=   0.2s\n",
            "[CV] END .....................C=0.1, gamma=0.001, kernel=rbf; total time=   0.2s\n",
            "[CV] END .....................C=0.1, gamma=0.001, kernel=rbf; total time=   0.2s\n",
            "[CV] END .....................C=0.1, gamma=0.001, kernel=rbf; total time=   0.2s\n",
            "[CV] END .....................C=0.1, gamma=0.001, kernel=rbf; total time=   0.2s\n",
            "[CV] END .....................C=0.1, gamma=0.001, kernel=rbf; total time=   0.2s\n",
            "[CV] END ....................C=0.1, gamma=0.0001, kernel=rbf; total time=   0.2s\n",
            "[CV] END ....................C=0.1, gamma=0.0001, kernel=rbf; total time=   0.1s\n",
            "[CV] END ....................C=0.1, gamma=0.0001, kernel=rbf; total time=   0.1s\n",
            "[CV] END ....................C=0.1, gamma=0.0001, kernel=rbf; total time=   0.1s\n",
            "[CV] END ....................C=0.1, gamma=0.0001, kernel=rbf; total time=   0.1s\n",
            "[CV] END ...........................C=1, gamma=1, kernel=rbf; total time=   0.1s\n",
            "[CV] END ...........................C=1, gamma=1, kernel=rbf; total time=   0.1s\n",
            "[CV] END ...........................C=1, gamma=1, kernel=rbf; total time=   0.1s\n",
            "[CV] END ...........................C=1, gamma=1, kernel=rbf; total time=   0.2s\n",
            "[CV] END ...........................C=1, gamma=1, kernel=rbf; total time=   0.1s\n",
            "[CV] END .........................C=1, gamma=0.1, kernel=rbf; total time=   0.1s\n",
            "[CV] END .........................C=1, gamma=0.1, kernel=rbf; total time=   0.1s\n",
            "[CV] END .........................C=1, gamma=0.1, kernel=rbf; total time=   0.1s\n",
            "[CV] END .........................C=1, gamma=0.1, kernel=rbf; total time=   0.1s\n",
            "[CV] END .........................C=1, gamma=0.1, kernel=rbf; total time=   0.1s\n",
            "[CV] END ........................C=1, gamma=0.01, kernel=rbf; total time=   0.1s\n",
            "[CV] END ........................C=1, gamma=0.01, kernel=rbf; total time=   0.1s\n",
            "[CV] END ........................C=1, gamma=0.01, kernel=rbf; total time=   0.1s\n",
            "[CV] END ........................C=1, gamma=0.01, kernel=rbf; total time=   0.1s\n",
            "[CV] END ........................C=1, gamma=0.01, kernel=rbf; total time=   0.1s\n",
            "[CV] END .......................C=1, gamma=0.001, kernel=rbf; total time=   0.1s\n",
            "[CV] END .......................C=1, gamma=0.001, kernel=rbf; total time=   0.1s\n",
            "[CV] END .......................C=1, gamma=0.001, kernel=rbf; total time=   0.1s\n",
            "[CV] END .......................C=1, gamma=0.001, kernel=rbf; total time=   0.1s\n",
            "[CV] END .......................C=1, gamma=0.001, kernel=rbf; total time=   0.1s\n",
            "[CV] END ......................C=1, gamma=0.0001, kernel=rbf; total time=   0.1s\n",
            "[CV] END ......................C=1, gamma=0.0001, kernel=rbf; total time=   0.1s\n",
            "[CV] END ......................C=1, gamma=0.0001, kernel=rbf; total time=   0.1s\n",
            "[CV] END ......................C=1, gamma=0.0001, kernel=rbf; total time=   0.1s\n",
            "[CV] END ......................C=1, gamma=0.0001, kernel=rbf; total time=   0.1s\n",
            "[CV] END ..........................C=10, gamma=1, kernel=rbf; total time=   0.2s\n",
            "[CV] END ..........................C=10, gamma=1, kernel=rbf; total time=   0.1s\n",
            "[CV] END ..........................C=10, gamma=1, kernel=rbf; total time=   0.1s\n",
            "[CV] END ..........................C=10, gamma=1, kernel=rbf; total time=   0.1s\n",
            "[CV] END ..........................C=10, gamma=1, kernel=rbf; total time=   0.2s\n",
            "[CV] END ........................C=10, gamma=0.1, kernel=rbf; total time=   0.2s\n",
            "[CV] END ........................C=10, gamma=0.1, kernel=rbf; total time=   0.2s\n",
            "[CV] END ........................C=10, gamma=0.1, kernel=rbf; total time=   0.2s\n",
            "[CV] END ........................C=10, gamma=0.1, kernel=rbf; total time=   0.2s\n",
            "[CV] END ........................C=10, gamma=0.1, kernel=rbf; total time=   0.2s\n",
            "[CV] END .......................C=10, gamma=0.01, kernel=rbf; total time=   0.2s\n",
            "[CV] END .......................C=10, gamma=0.01, kernel=rbf; total time=   0.2s\n",
            "[CV] END .......................C=10, gamma=0.01, kernel=rbf; total time=   0.2s\n",
            "[CV] END .......................C=10, gamma=0.01, kernel=rbf; total time=   0.2s\n",
            "[CV] END .......................C=10, gamma=0.01, kernel=rbf; total time=   0.2s\n",
            "[CV] END ......................C=10, gamma=0.001, kernel=rbf; total time=   0.1s\n",
            "[CV] END ......................C=10, gamma=0.001, kernel=rbf; total time=   0.1s\n",
            "[CV] END ......................C=10, gamma=0.001, kernel=rbf; total time=   0.1s\n",
            "[CV] END ......................C=10, gamma=0.001, kernel=rbf; total time=   0.1s\n",
            "[CV] END ......................C=10, gamma=0.001, kernel=rbf; total time=   0.1s\n",
            "[CV] END .....................C=10, gamma=0.0001, kernel=rbf; total time=   0.1s\n",
            "[CV] END .....................C=10, gamma=0.0001, kernel=rbf; total time=   0.1s\n",
            "[CV] END .....................C=10, gamma=0.0001, kernel=rbf; total time=   0.1s\n",
            "[CV] END .....................C=10, gamma=0.0001, kernel=rbf; total time=   0.1s\n",
            "[CV] END .....................C=10, gamma=0.0001, kernel=rbf; total time=   0.1s\n",
            "[CV] END .........................C=100, gamma=1, kernel=rbf; total time=   0.2s\n",
            "[CV] END .........................C=100, gamma=1, kernel=rbf; total time=   0.3s\n",
            "[CV] END .........................C=100, gamma=1, kernel=rbf; total time=   0.2s\n",
            "[CV] END .........................C=100, gamma=1, kernel=rbf; total time=   0.2s\n",
            "[CV] END .........................C=100, gamma=1, kernel=rbf; total time=   0.3s\n",
            "[CV] END .......................C=100, gamma=0.1, kernel=rbf; total time=   0.2s\n",
            "[CV] END .......................C=100, gamma=0.1, kernel=rbf; total time=   0.2s\n",
            "[CV] END .......................C=100, gamma=0.1, kernel=rbf; total time=   0.2s\n",
            "[CV] END .......................C=100, gamma=0.1, kernel=rbf; total time=   0.3s\n",
            "[CV] END .......................C=100, gamma=0.1, kernel=rbf; total time=   0.2s\n",
            "[CV] END ......................C=100, gamma=0.01, kernel=rbf; total time=   0.2s\n",
            "[CV] END ......................C=100, gamma=0.01, kernel=rbf; total time=   0.2s\n",
            "[CV] END ......................C=100, gamma=0.01, kernel=rbf; total time=   0.2s\n",
            "[CV] END ......................C=100, gamma=0.01, kernel=rbf; total time=   0.2s\n",
            "[CV] END ......................C=100, gamma=0.01, kernel=rbf; total time=   0.2s\n",
            "[CV] END .....................C=100, gamma=0.001, kernel=rbf; total time=   0.1s\n",
            "[CV] END .....................C=100, gamma=0.001, kernel=rbf; total time=   0.1s\n",
            "[CV] END .....................C=100, gamma=0.001, kernel=rbf; total time=   0.1s\n",
            "[CV] END .....................C=100, gamma=0.001, kernel=rbf; total time=   0.1s\n",
            "[CV] END .....................C=100, gamma=0.001, kernel=rbf; total time=   0.1s\n",
            "[CV] END ....................C=100, gamma=0.0001, kernel=rbf; total time=   0.1s\n",
            "[CV] END ....................C=100, gamma=0.0001, kernel=rbf; total time=   0.1s\n",
            "[CV] END ....................C=100, gamma=0.0001, kernel=rbf; total time=   0.1s\n",
            "[CV] END ....................C=100, gamma=0.0001, kernel=rbf; total time=   0.1s\n",
            "[CV] END ....................C=100, gamma=0.0001, kernel=rbf; total time=   0.1s\n",
            "[CV] END .........................C=200, gamma=1, kernel=rbf; total time=   0.2s\n",
            "[CV] END .........................C=200, gamma=1, kernel=rbf; total time=   0.3s\n",
            "[CV] END .........................C=200, gamma=1, kernel=rbf; total time=   0.3s\n",
            "[CV] END .........................C=200, gamma=1, kernel=rbf; total time=   0.2s\n",
            "[CV] END .........................C=200, gamma=1, kernel=rbf; total time=   0.2s\n",
            "[CV] END .......................C=200, gamma=0.1, kernel=rbf; total time=   0.1s\n",
            "[CV] END .......................C=200, gamma=0.1, kernel=rbf; total time=   0.1s\n",
            "[CV] END .......................C=200, gamma=0.1, kernel=rbf; total time=   0.1s\n",
            "[CV] END .......................C=200, gamma=0.1, kernel=rbf; total time=   0.1s\n",
            "[CV] END .......................C=200, gamma=0.1, kernel=rbf; total time=   0.1s\n",
            "[CV] END ......................C=200, gamma=0.01, kernel=rbf; total time=   0.1s\n",
            "[CV] END ......................C=200, gamma=0.01, kernel=rbf; total time=   0.1s\n",
            "[CV] END ......................C=200, gamma=0.01, kernel=rbf; total time=   0.2s\n",
            "[CV] END ......................C=200, gamma=0.01, kernel=rbf; total time=   0.2s\n",
            "[CV] END ......................C=200, gamma=0.01, kernel=rbf; total time=   0.2s\n",
            "[CV] END .....................C=200, gamma=0.001, kernel=rbf; total time=   0.1s\n",
            "[CV] END .....................C=200, gamma=0.001, kernel=rbf; total time=   0.1s\n",
            "[CV] END .....................C=200, gamma=0.001, kernel=rbf; total time=   0.1s\n",
            "[CV] END .....................C=200, gamma=0.001, kernel=rbf; total time=   0.1s\n",
            "[CV] END .....................C=200, gamma=0.001, kernel=rbf; total time=   0.1s\n",
            "[CV] END ....................C=200, gamma=0.0001, kernel=rbf; total time=   0.1s\n",
            "[CV] END ....................C=200, gamma=0.0001, kernel=rbf; total time=   0.1s\n",
            "[CV] END ....................C=200, gamma=0.0001, kernel=rbf; total time=   0.1s\n",
            "[CV] END ....................C=200, gamma=0.0001, kernel=rbf; total time=   0.1s\n",
            "[CV] END ....................C=200, gamma=0.0001, kernel=rbf; total time=   0.1s\n",
            "[CV] END .........................C=300, gamma=1, kernel=rbf; total time=   0.2s\n",
            "[CV] END .........................C=300, gamma=1, kernel=rbf; total time=   0.2s\n",
            "[CV] END .........................C=300, gamma=1, kernel=rbf; total time=   0.2s\n",
            "[CV] END .........................C=300, gamma=1, kernel=rbf; total time=   0.2s\n",
            "[CV] END .........................C=300, gamma=1, kernel=rbf; total time=   0.2s\n",
            "[CV] END .......................C=300, gamma=0.1, kernel=rbf; total time=   0.3s\n",
            "[CV] END .......................C=300, gamma=0.1, kernel=rbf; total time=   0.2s\n",
            "[CV] END .......................C=300, gamma=0.1, kernel=rbf; total time=   0.2s\n",
            "[CV] END .......................C=300, gamma=0.1, kernel=rbf; total time=   0.3s\n",
            "[CV] END .......................C=300, gamma=0.1, kernel=rbf; total time=   0.4s\n",
            "[CV] END ......................C=300, gamma=0.01, kernel=rbf; total time=   0.4s\n",
            "[CV] END ......................C=300, gamma=0.01, kernel=rbf; total time=   0.4s\n",
            "[CV] END ......................C=300, gamma=0.01, kernel=rbf; total time=   0.4s\n",
            "[CV] END ......................C=300, gamma=0.01, kernel=rbf; total time=   0.2s\n",
            "[CV] END ......................C=300, gamma=0.01, kernel=rbf; total time=   0.2s\n",
            "[CV] END .....................C=300, gamma=0.001, kernel=rbf; total time=   0.1s\n",
            "[CV] END .....................C=300, gamma=0.001, kernel=rbf; total time=   0.1s\n",
            "[CV] END .....................C=300, gamma=0.001, kernel=rbf; total time=   0.2s\n",
            "[CV] END .....................C=300, gamma=0.001, kernel=rbf; total time=   0.1s\n",
            "[CV] END .....................C=300, gamma=0.001, kernel=rbf; total time=   0.1s\n",
            "[CV] END ....................C=300, gamma=0.0001, kernel=rbf; total time=   0.3s\n",
            "[CV] END ....................C=300, gamma=0.0001, kernel=rbf; total time=   0.2s\n",
            "[CV] END ....................C=300, gamma=0.0001, kernel=rbf; total time=   0.2s\n",
            "[CV] END ....................C=300, gamma=0.0001, kernel=rbf; total time=   0.2s\n",
            "[CV] END ....................C=300, gamma=0.0001, kernel=rbf; total time=   0.1s\n"
          ]
        },
        {
          "output_type": "execute_result",
          "data": {
            "text/plain": [
              "GridSearchCV(estimator=SVC(),\n",
              "             param_grid={'C': [0.1, 1, 10, 100, 200, 300],\n",
              "                         'gamma': [1, 0.1, 0.01, 0.001, 0.0001],\n",
              "                         'kernel': ['rbf']},\n",
              "             verbose=2)"
            ],
            "text/html": [
              "<style>#sk-container-id-1 {color: black;background-color: white;}#sk-container-id-1 pre{padding: 0;}#sk-container-id-1 div.sk-toggleable {background-color: white;}#sk-container-id-1 label.sk-toggleable__label {cursor: pointer;display: block;width: 100%;margin-bottom: 0;padding: 0.3em;box-sizing: border-box;text-align: center;}#sk-container-id-1 label.sk-toggleable__label-arrow:before {content: \"▸\";float: left;margin-right: 0.25em;color: #696969;}#sk-container-id-1 label.sk-toggleable__label-arrow:hover:before {color: black;}#sk-container-id-1 div.sk-estimator:hover label.sk-toggleable__label-arrow:before {color: black;}#sk-container-id-1 div.sk-toggleable__content {max-height: 0;max-width: 0;overflow: hidden;text-align: left;background-color: #f0f8ff;}#sk-container-id-1 div.sk-toggleable__content pre {margin: 0.2em;color: black;border-radius: 0.25em;background-color: #f0f8ff;}#sk-container-id-1 input.sk-toggleable__control:checked~div.sk-toggleable__content {max-height: 200px;max-width: 100%;overflow: auto;}#sk-container-id-1 input.sk-toggleable__control:checked~label.sk-toggleable__label-arrow:before {content: \"▾\";}#sk-container-id-1 div.sk-estimator input.sk-toggleable__control:checked~label.sk-toggleable__label {background-color: #d4ebff;}#sk-container-id-1 div.sk-label input.sk-toggleable__control:checked~label.sk-toggleable__label {background-color: #d4ebff;}#sk-container-id-1 input.sk-hidden--visually {border: 0;clip: rect(1px 1px 1px 1px);clip: rect(1px, 1px, 1px, 1px);height: 1px;margin: -1px;overflow: hidden;padding: 0;position: absolute;width: 1px;}#sk-container-id-1 div.sk-estimator {font-family: monospace;background-color: #f0f8ff;border: 1px dotted black;border-radius: 0.25em;box-sizing: border-box;margin-bottom: 0.5em;}#sk-container-id-1 div.sk-estimator:hover {background-color: #d4ebff;}#sk-container-id-1 div.sk-parallel-item::after {content: \"\";width: 100%;border-bottom: 1px solid gray;flex-grow: 1;}#sk-container-id-1 div.sk-label:hover label.sk-toggleable__label {background-color: #d4ebff;}#sk-container-id-1 div.sk-serial::before {content: \"\";position: absolute;border-left: 1px solid gray;box-sizing: border-box;top: 0;bottom: 0;left: 50%;z-index: 0;}#sk-container-id-1 div.sk-serial {display: flex;flex-direction: column;align-items: center;background-color: white;padding-right: 0.2em;padding-left: 0.2em;position: relative;}#sk-container-id-1 div.sk-item {position: relative;z-index: 1;}#sk-container-id-1 div.sk-parallel {display: flex;align-items: stretch;justify-content: center;background-color: white;position: relative;}#sk-container-id-1 div.sk-item::before, #sk-container-id-1 div.sk-parallel-item::before {content: \"\";position: absolute;border-left: 1px solid gray;box-sizing: border-box;top: 0;bottom: 0;left: 50%;z-index: -1;}#sk-container-id-1 div.sk-parallel-item {display: flex;flex-direction: column;z-index: 1;position: relative;background-color: white;}#sk-container-id-1 div.sk-parallel-item:first-child::after {align-self: flex-end;width: 50%;}#sk-container-id-1 div.sk-parallel-item:last-child::after {align-self: flex-start;width: 50%;}#sk-container-id-1 div.sk-parallel-item:only-child::after {width: 0;}#sk-container-id-1 div.sk-dashed-wrapped {border: 1px dashed gray;margin: 0 0.4em 0.5em 0.4em;box-sizing: border-box;padding-bottom: 0.4em;background-color: white;}#sk-container-id-1 div.sk-label label {font-family: monospace;font-weight: bold;display: inline-block;line-height: 1.2em;}#sk-container-id-1 div.sk-label-container {text-align: center;}#sk-container-id-1 div.sk-container {/* jupyter's `normalize.less` sets `[hidden] { display: none; }` but bootstrap.min.css set `[hidden] { display: none !important; }` so we also need the `!important` here to be able to override the default hidden behavior on the sphinx rendered scikit-learn.org. See: https://github.com/scikit-learn/scikit-learn/issues/21755 */display: inline-block !important;position: relative;}#sk-container-id-1 div.sk-text-repr-fallback {display: none;}</style><div id=\"sk-container-id-1\" class=\"sk-top-container\"><div class=\"sk-text-repr-fallback\"><pre>GridSearchCV(estimator=SVC(),\n",
              "             param_grid={&#x27;C&#x27;: [0.1, 1, 10, 100, 200, 300],\n",
              "                         &#x27;gamma&#x27;: [1, 0.1, 0.01, 0.001, 0.0001],\n",
              "                         &#x27;kernel&#x27;: [&#x27;rbf&#x27;]},\n",
              "             verbose=2)</pre><b>In a Jupyter environment, please rerun this cell to show the HTML representation or trust the notebook. <br />On GitHub, the HTML representation is unable to render, please try loading this page with nbviewer.org.</b></div><div class=\"sk-container\" hidden><div class=\"sk-item sk-dashed-wrapped\"><div class=\"sk-label-container\"><div class=\"sk-label sk-toggleable\"><input class=\"sk-toggleable__control sk-hidden--visually\" id=\"sk-estimator-id-1\" type=\"checkbox\" ><label for=\"sk-estimator-id-1\" class=\"sk-toggleable__label sk-toggleable__label-arrow\">GridSearchCV</label><div class=\"sk-toggleable__content\"><pre>GridSearchCV(estimator=SVC(),\n",
              "             param_grid={&#x27;C&#x27;: [0.1, 1, 10, 100, 200, 300],\n",
              "                         &#x27;gamma&#x27;: [1, 0.1, 0.01, 0.001, 0.0001],\n",
              "                         &#x27;kernel&#x27;: [&#x27;rbf&#x27;]},\n",
              "             verbose=2)</pre></div></div></div><div class=\"sk-parallel\"><div class=\"sk-parallel-item\"><div class=\"sk-item\"><div class=\"sk-label-container\"><div class=\"sk-label sk-toggleable\"><input class=\"sk-toggleable__control sk-hidden--visually\" id=\"sk-estimator-id-2\" type=\"checkbox\" ><label for=\"sk-estimator-id-2\" class=\"sk-toggleable__label sk-toggleable__label-arrow\">estimator: SVC</label><div class=\"sk-toggleable__content\"><pre>SVC()</pre></div></div></div><div class=\"sk-serial\"><div class=\"sk-item\"><div class=\"sk-estimator sk-toggleable\"><input class=\"sk-toggleable__control sk-hidden--visually\" id=\"sk-estimator-id-3\" type=\"checkbox\" ><label for=\"sk-estimator-id-3\" class=\"sk-toggleable__label sk-toggleable__label-arrow\">SVC</label><div class=\"sk-toggleable__content\"><pre>SVC()</pre></div></div></div></div></div></div></div></div></div></div>"
            ]
          },
          "metadata": {},
          "execution_count": 28
        }
      ]
    },
    {
      "cell_type": "code",
      "source": [
        "# Print best parameters\n",
        "print(grid.best_params_)"
      ],
      "metadata": {
        "colab": {
          "base_uri": "https://localhost:8080/"
        },
        "id": "vooqKKGcuzfj",
        "outputId": "ef6182a4-db33-4def-e636-d8d606683c3b"
      },
      "execution_count": 29,
      "outputs": [
        {
          "output_type": "stream",
          "name": "stdout",
          "text": [
            "{'C': 100, 'gamma': 0.0001, 'kernel': 'rbf'}\n"
          ]
        }
      ]
    },
    {
      "cell_type": "code",
      "source": [
        "# Predict using the best model\n",
        "y_pred = grid.predict(X_test)"
      ],
      "metadata": {
        "id": "-490ArbFu1FZ"
      },
      "execution_count": 30,
      "outputs": []
    },
    {
      "cell_type": "code",
      "source": [
        "# Print accuracy\n",
        "print('Accuracy:', round(accuracy_score(y_test, y_pred), 2))"
      ],
      "metadata": {
        "colab": {
          "base_uri": "https://localhost:8080/"
        },
        "id": "_96wF1YCu2hd",
        "outputId": "ac7f9bef-61db-43c9-c2a9-6221c138c3f0"
      },
      "execution_count": 33,
      "outputs": [
        {
          "output_type": "stream",
          "name": "stdout",
          "text": [
            "Accuracy: 0.92\n"
          ]
        }
      ]
    },
    {
      "cell_type": "code",
      "source": [
        "\"\"\"\n",
        "This function computes and plots the confusion matrix.\n",
        "\"\"\"\n",
        "def plot_confusion_matrix(y_true, y_pred, title, labels, filename):\n",
        "    cnf_matrix = confusion_matrix(y_true, y_pred)\n",
        "    df_cnf_matrix = pd.DataFrame(data=cnf_matrix)\n",
        "    plt.figure(figsize = (8,6))\n",
        "    #plt.title(title,fontsize=20)\n",
        "    ax = sns.heatmap(df_cnf_matrix, annot=True, cmap='Blues',fmt='g',square=True,linewidths=.7, cbar_kws={\"shrink\": .5}, annot_kws={\"size\": 20})\n",
        "    ax.set_xticklabels(labels,fontsize=20,  rotation=90)\n",
        "    b = ax.set_yticklabels(labels,fontsize=20, rotation=360)\n",
        "    plt.savefig(filename)"
      ],
      "metadata": {
        "id": "L9zquGg7u4F0"
      },
      "execution_count": 34,
      "outputs": []
    },
    {
      "cell_type": "code",
      "source": [
        "# Fit the model and predict\n",
        "clf = SVC(C=220, kernel='rbf')\n",
        "clf.fit(X_train, y_train)\n",
        "y_pred = clf.predict(X_test)\n",
        "\n",
        "# Calculate and print the metrics\n",
        "print('Accuracy:', round(accuracy_score(y_test, y_pred), 2))\n",
        "print('F1 score:', round(f1_score(y_test, y_pred, average='weighted'), 2))\n",
        "print('Precision:', round(precision_score(y_test, y_pred, average='weighted'), 2))\n",
        "print('Recall:', round(recall_score(y_test, y_pred, average='weighted'), 2))\n",
        "\n",
        "filename = 'MODEL_SVM.png'\n",
        "plot_confusion_matrix(y_test, y_pred, 'SVM - confusion matrix', emotion_labels, filename)"
      ],
      "metadata": {
        "colab": {
          "base_uri": "https://localhost:8080/",
          "height": 684
        },
        "id": "9N_tpFRtu8T0",
        "outputId": "1d496476-13b1-47af-ebe4-dc651142533f"
      },
      "execution_count": 35,
      "outputs": [
        {
          "output_type": "stream",
          "name": "stdout",
          "text": [
            "Accuracy: 0.84\n",
            "F1 score: 0.84\n",
            "Precision: 0.84\n",
            "Recall: 0.84\n"
          ]
        },
        {
          "output_type": "display_data",
          "data": {
            "text/plain": [
              "<Figure size 800x600 with 2 Axes>"
            ],
            "image/png": "[encoded data removed]"
          },
          "metadata": {}
        }
      ]
    },
    {
      "cell_type": "code",
      "source": [
        "# Plot confusion matrix\n",
        "cnf_matrix = confusion_matrix(y_test, y_pred)\n",
        "plt.figure(figsize=(8,6))\n",
        "sns.heatmap(cnf_matrix, annot=True, cmap='Blues', fmt='g', square=True, linewidths=.7, cbar_kws={\"shrink\": .5})\n",
        "plt.show()"
      ],
      "metadata": {
        "colab": {
          "base_uri": "https://localhost:8080/",
          "height": 522
        },
        "id": "ibyxE_keu-aG",
        "outputId": "29a7f385-d9de-49e3-95ea-91d03904e964"
      },
      "execution_count": 36,
      "outputs": [
        {
          "output_type": "display_data",
          "data": {
            "text/plain": [
              "<Figure size 800x600 with 2 Axes>"
            ],
            "image/png": "[encoded data removed]"
          },
          "metadata": {}
        }
      ]
    }
  ]
}